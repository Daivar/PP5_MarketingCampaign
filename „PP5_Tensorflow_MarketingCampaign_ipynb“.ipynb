{
  "nbformat": 4,
  "nbformat_minor": 0,
  "metadata": {
    "colab": {
      "name": "„PP5_Tensorflow_MarketingCampaign.ipynb“ ",
      "provenance": [],
      "authorship_tag": "ABX9TyP9vQqOQKsGafQ57ProCjn/",
      "include_colab_link": true
    },
    "kernelspec": {
      "name": "python3",
      "display_name": "Python 3"
    },
    "language_info": {
      "name": "python"
    }
  },
  "cells": [
    {
      "cell_type": "markdown",
      "metadata": {
        "id": "view-in-github",
        "colab_type": "text"
      },
      "source": [
        "<a href=\"https://colab.research.google.com/github/Daivar/PP5_MarketingCampaign/blob/main/%E2%80%9EPP5_Tensorflow_MarketingCampaign_ipynb%E2%80%9C.ipynb\" target=\"_parent\"><img src=\"https://colab.research.google.com/assets/colab-badge.svg\" alt=\"Open In Colab\"/></a>"
      ]
    },
    {
      "cell_type": "code",
      "execution_count": 29,
      "metadata": {
        "id": "5ZZA_iTxJABA"
      },
      "outputs": [],
      "source": [
        "import pandas as pd\n",
        "\n",
        "import os\n",
        "for dirname, _, filenames in os.walk('marketing_campaign.csv'):\n",
        "    for filename in filenames:\n",
        "        print(os.path.join(dirname, filename))"
      ]
    },
    {
      "cell_type": "code",
      "source": [
        "marketing_campaign_data = 'marketing_campaign.csv'\n",
        "\n",
        "marketing_campaign_dataframe = pd.read_csv(marketing_campaign_data,\n",
        "                                           sep='\\t',\n",
        "                                           low_memory=False)"
      ],
      "metadata": {
        "id": "S5RIWQ5uMcyC"
      },
      "execution_count": 30,
      "outputs": []
    },
    {
      "cell_type": "code",
      "source": [
        "import warnings\n",
        "\n",
        "warnings.filterwarnings('ignore')"
      ],
      "metadata": {
        "id": "U19gSMWVO_dL"
      },
      "execution_count": 32,
      "outputs": []
    },
    {
      "cell_type": "code",
      "source": [
        "marketing_campaign_dataframe = marketing_campaign_dataframe.reset_index()"
      ],
      "metadata": {
        "id": "yd2TaOt5PEPR"
      },
      "execution_count": 33,
      "outputs": []
    },
    {
      "cell_type": "code",
      "source": [
        "marketing_campaign_dataframe.head()"
      ],
      "metadata": {
        "id": "N6qGPq9CPNZK",
        "colab": {
          "base_uri": "https://localhost:8080/",
          "height": 270
        },
        "outputId": "576384ab-dc88-4ca8-a110-7e0886a92c5d"
      },
      "execution_count": 34,
      "outputs": [
        {
          "output_type": "execute_result",
          "data": {
            "text/html": [
              "\n",
              "  <div id=\"df-930f4dd1-beeb-438c-9116-fd3049d17d1f\">\n",
              "    <div class=\"colab-df-container\">\n",
              "      <div>\n",
              "<style scoped>\n",
              "    .dataframe tbody tr th:only-of-type {\n",
              "        vertical-align: middle;\n",
              "    }\n",
              "\n",
              "    .dataframe tbody tr th {\n",
              "        vertical-align: top;\n",
              "    }\n",
              "\n",
              "    .dataframe thead th {\n",
              "        text-align: right;\n",
              "    }\n",
              "</style>\n",
              "<table border=\"1\" class=\"dataframe\">\n",
              "  <thead>\n",
              "    <tr style=\"text-align: right;\">\n",
              "      <th></th>\n",
              "      <th>index</th>\n",
              "      <th>ID</th>\n",
              "      <th>Year_Birth</th>\n",
              "      <th>Education</th>\n",
              "      <th>Marital_Status</th>\n",
              "      <th>Income</th>\n",
              "      <th>Kidhome</th>\n",
              "      <th>Teenhome</th>\n",
              "      <th>Dt_Customer</th>\n",
              "      <th>Recency</th>\n",
              "      <th>MntWines</th>\n",
              "      <th>MntFruits</th>\n",
              "      <th>MntMeatProducts</th>\n",
              "      <th>MntFishProducts</th>\n",
              "      <th>MntSweetProducts</th>\n",
              "      <th>MntGoldProds</th>\n",
              "      <th>NumDealsPurchases</th>\n",
              "      <th>NumWebPurchases</th>\n",
              "      <th>NumCatalogPurchases</th>\n",
              "      <th>NumStorePurchases</th>\n",
              "      <th>NumWebVisitsMonth</th>\n",
              "      <th>AcceptedCmp3</th>\n",
              "      <th>AcceptedCmp4</th>\n",
              "      <th>AcceptedCmp5</th>\n",
              "      <th>AcceptedCmp1</th>\n",
              "      <th>AcceptedCmp2</th>\n",
              "      <th>Complain</th>\n",
              "      <th>Z_CostContact</th>\n",
              "      <th>Z_Revenue</th>\n",
              "      <th>Response</th>\n",
              "    </tr>\n",
              "  </thead>\n",
              "  <tbody>\n",
              "    <tr>\n",
              "      <th>0</th>\n",
              "      <td>0</td>\n",
              "      <td>5524</td>\n",
              "      <td>1957</td>\n",
              "      <td>Graduation</td>\n",
              "      <td>Single</td>\n",
              "      <td>58138.0</td>\n",
              "      <td>0</td>\n",
              "      <td>0</td>\n",
              "      <td>04-09-2012</td>\n",
              "      <td>58</td>\n",
              "      <td>635</td>\n",
              "      <td>88</td>\n",
              "      <td>546</td>\n",
              "      <td>172</td>\n",
              "      <td>88</td>\n",
              "      <td>88</td>\n",
              "      <td>3</td>\n",
              "      <td>8</td>\n",
              "      <td>10</td>\n",
              "      <td>4</td>\n",
              "      <td>7</td>\n",
              "      <td>0</td>\n",
              "      <td>0</td>\n",
              "      <td>0</td>\n",
              "      <td>0</td>\n",
              "      <td>0</td>\n",
              "      <td>0</td>\n",
              "      <td>3</td>\n",
              "      <td>11</td>\n",
              "      <td>1</td>\n",
              "    </tr>\n",
              "    <tr>\n",
              "      <th>1</th>\n",
              "      <td>1</td>\n",
              "      <td>2174</td>\n",
              "      <td>1954</td>\n",
              "      <td>Graduation</td>\n",
              "      <td>Single</td>\n",
              "      <td>46344.0</td>\n",
              "      <td>1</td>\n",
              "      <td>1</td>\n",
              "      <td>08-03-2014</td>\n",
              "      <td>38</td>\n",
              "      <td>11</td>\n",
              "      <td>1</td>\n",
              "      <td>6</td>\n",
              "      <td>2</td>\n",
              "      <td>1</td>\n",
              "      <td>6</td>\n",
              "      <td>2</td>\n",
              "      <td>1</td>\n",
              "      <td>1</td>\n",
              "      <td>2</td>\n",
              "      <td>5</td>\n",
              "      <td>0</td>\n",
              "      <td>0</td>\n",
              "      <td>0</td>\n",
              "      <td>0</td>\n",
              "      <td>0</td>\n",
              "      <td>0</td>\n",
              "      <td>3</td>\n",
              "      <td>11</td>\n",
              "      <td>0</td>\n",
              "    </tr>\n",
              "    <tr>\n",
              "      <th>2</th>\n",
              "      <td>2</td>\n",
              "      <td>4141</td>\n",
              "      <td>1965</td>\n",
              "      <td>Graduation</td>\n",
              "      <td>Together</td>\n",
              "      <td>71613.0</td>\n",
              "      <td>0</td>\n",
              "      <td>0</td>\n",
              "      <td>21-08-2013</td>\n",
              "      <td>26</td>\n",
              "      <td>426</td>\n",
              "      <td>49</td>\n",
              "      <td>127</td>\n",
              "      <td>111</td>\n",
              "      <td>21</td>\n",
              "      <td>42</td>\n",
              "      <td>1</td>\n",
              "      <td>8</td>\n",
              "      <td>2</td>\n",
              "      <td>10</td>\n",
              "      <td>4</td>\n",
              "      <td>0</td>\n",
              "      <td>0</td>\n",
              "      <td>0</td>\n",
              "      <td>0</td>\n",
              "      <td>0</td>\n",
              "      <td>0</td>\n",
              "      <td>3</td>\n",
              "      <td>11</td>\n",
              "      <td>0</td>\n",
              "    </tr>\n",
              "    <tr>\n",
              "      <th>3</th>\n",
              "      <td>3</td>\n",
              "      <td>6182</td>\n",
              "      <td>1984</td>\n",
              "      <td>Graduation</td>\n",
              "      <td>Together</td>\n",
              "      <td>26646.0</td>\n",
              "      <td>1</td>\n",
              "      <td>0</td>\n",
              "      <td>10-02-2014</td>\n",
              "      <td>26</td>\n",
              "      <td>11</td>\n",
              "      <td>4</td>\n",
              "      <td>20</td>\n",
              "      <td>10</td>\n",
              "      <td>3</td>\n",
              "      <td>5</td>\n",
              "      <td>2</td>\n",
              "      <td>2</td>\n",
              "      <td>0</td>\n",
              "      <td>4</td>\n",
              "      <td>6</td>\n",
              "      <td>0</td>\n",
              "      <td>0</td>\n",
              "      <td>0</td>\n",
              "      <td>0</td>\n",
              "      <td>0</td>\n",
              "      <td>0</td>\n",
              "      <td>3</td>\n",
              "      <td>11</td>\n",
              "      <td>0</td>\n",
              "    </tr>\n",
              "    <tr>\n",
              "      <th>4</th>\n",
              "      <td>4</td>\n",
              "      <td>5324</td>\n",
              "      <td>1981</td>\n",
              "      <td>PhD</td>\n",
              "      <td>Married</td>\n",
              "      <td>58293.0</td>\n",
              "      <td>1</td>\n",
              "      <td>0</td>\n",
              "      <td>19-01-2014</td>\n",
              "      <td>94</td>\n",
              "      <td>173</td>\n",
              "      <td>43</td>\n",
              "      <td>118</td>\n",
              "      <td>46</td>\n",
              "      <td>27</td>\n",
              "      <td>15</td>\n",
              "      <td>5</td>\n",
              "      <td>5</td>\n",
              "      <td>3</td>\n",
              "      <td>6</td>\n",
              "      <td>5</td>\n",
              "      <td>0</td>\n",
              "      <td>0</td>\n",
              "      <td>0</td>\n",
              "      <td>0</td>\n",
              "      <td>0</td>\n",
              "      <td>0</td>\n",
              "      <td>3</td>\n",
              "      <td>11</td>\n",
              "      <td>0</td>\n",
              "    </tr>\n",
              "  </tbody>\n",
              "</table>\n",
              "</div>\n",
              "      <button class=\"colab-df-convert\" onclick=\"convertToInteractive('df-930f4dd1-beeb-438c-9116-fd3049d17d1f')\"\n",
              "              title=\"Convert this dataframe to an interactive table.\"\n",
              "              style=\"display:none;\">\n",
              "        \n",
              "  <svg xmlns=\"http://www.w3.org/2000/svg\" height=\"24px\"viewBox=\"0 0 24 24\"\n",
              "       width=\"24px\">\n",
              "    <path d=\"M0 0h24v24H0V0z\" fill=\"none\"/>\n",
              "    <path d=\"M18.56 5.44l.94 2.06.94-2.06 2.06-.94-2.06-.94-.94-2.06-.94 2.06-2.06.94zm-11 1L8.5 8.5l.94-2.06 2.06-.94-2.06-.94L8.5 2.5l-.94 2.06-2.06.94zm10 10l.94 2.06.94-2.06 2.06-.94-2.06-.94-.94-2.06-.94 2.06-2.06.94z\"/><path d=\"M17.41 7.96l-1.37-1.37c-.4-.4-.92-.59-1.43-.59-.52 0-1.04.2-1.43.59L10.3 9.45l-7.72 7.72c-.78.78-.78 2.05 0 2.83L4 21.41c.39.39.9.59 1.41.59.51 0 1.02-.2 1.41-.59l7.78-7.78 2.81-2.81c.8-.78.8-2.07 0-2.86zM5.41 20L4 18.59l7.72-7.72 1.47 1.35L5.41 20z\"/>\n",
              "  </svg>\n",
              "      </button>\n",
              "      \n",
              "  <style>\n",
              "    .colab-df-container {\n",
              "      display:flex;\n",
              "      flex-wrap:wrap;\n",
              "      gap: 12px;\n",
              "    }\n",
              "\n",
              "    .colab-df-convert {\n",
              "      background-color: #E8F0FE;\n",
              "      border: none;\n",
              "      border-radius: 50%;\n",
              "      cursor: pointer;\n",
              "      display: none;\n",
              "      fill: #1967D2;\n",
              "      height: 32px;\n",
              "      padding: 0 0 0 0;\n",
              "      width: 32px;\n",
              "    }\n",
              "\n",
              "    .colab-df-convert:hover {\n",
              "      background-color: #E2EBFA;\n",
              "      box-shadow: 0px 1px 2px rgba(60, 64, 67, 0.3), 0px 1px 3px 1px rgba(60, 64, 67, 0.15);\n",
              "      fill: #174EA6;\n",
              "    }\n",
              "\n",
              "    [theme=dark] .colab-df-convert {\n",
              "      background-color: #3B4455;\n",
              "      fill: #D2E3FC;\n",
              "    }\n",
              "\n",
              "    [theme=dark] .colab-df-convert:hover {\n",
              "      background-color: #434B5C;\n",
              "      box-shadow: 0px 1px 3px 1px rgba(0, 0, 0, 0.15);\n",
              "      filter: drop-shadow(0px 1px 2px rgba(0, 0, 0, 0.3));\n",
              "      fill: #FFFFFF;\n",
              "    }\n",
              "  </style>\n",
              "\n",
              "      <script>\n",
              "        const buttonEl =\n",
              "          document.querySelector('#df-930f4dd1-beeb-438c-9116-fd3049d17d1f button.colab-df-convert');\n",
              "        buttonEl.style.display =\n",
              "          google.colab.kernel.accessAllowed ? 'block' : 'none';\n",
              "\n",
              "        async function convertToInteractive(key) {\n",
              "          const element = document.querySelector('#df-930f4dd1-beeb-438c-9116-fd3049d17d1f');\n",
              "          const dataTable =\n",
              "            await google.colab.kernel.invokeFunction('convertToInteractive',\n",
              "                                                     [key], {});\n",
              "          if (!dataTable) return;\n",
              "\n",
              "          const docLinkHtml = 'Like what you see? Visit the ' +\n",
              "            '<a target=\"_blank\" href=https://colab.research.google.com/notebooks/data_table.ipynb>data table notebook</a>'\n",
              "            + ' to learn more about interactive tables.';\n",
              "          element.innerHTML = '';\n",
              "          dataTable['output_type'] = 'display_data';\n",
              "          await google.colab.output.renderOutput(dataTable, element);\n",
              "          const docLink = document.createElement('div');\n",
              "          docLink.innerHTML = docLinkHtml;\n",
              "          element.appendChild(docLink);\n",
              "        }\n",
              "      </script>\n",
              "    </div>\n",
              "  </div>\n",
              "  "
            ],
            "text/plain": [
              "   index    ID  Year_Birth  ... Z_CostContact Z_Revenue  Response\n",
              "0      0  5524        1957  ...             3        11         1\n",
              "1      1  2174        1954  ...             3        11         0\n",
              "2      2  4141        1965  ...             3        11         0\n",
              "3      3  6182        1984  ...             3        11         0\n",
              "4      4  5324        1981  ...             3        11         0\n",
              "\n",
              "[5 rows x 30 columns]"
            ]
          },
          "metadata": {},
          "execution_count": 34
        }
      ]
    },
    {
      "cell_type": "code",
      "source": [
        "len(marketing_campaign_dataframe.columns)"
      ],
      "metadata": {
        "id": "kR5u0AjTRCxC",
        "colab": {
          "base_uri": "https://localhost:8080/"
        },
        "outputId": "fec99edd-e819-42ef-c63f-f1e516055232"
      },
      "execution_count": 35,
      "outputs": [
        {
          "output_type": "execute_result",
          "data": {
            "text/plain": [
              "30"
            ]
          },
          "metadata": {},
          "execution_count": 35
        }
      ]
    },
    {
      "cell_type": "code",
      "source": [
        "marketing_campaign_dataframe = marketing_campaign_dataframe.drop(labels=2234, axis=0)"
      ],
      "metadata": {
        "id": "EKJRwqXYPT1J"
      },
      "execution_count": 10,
      "outputs": []
    },
    {
      "cell_type": "code",
      "source": [
        "marketing_campaign_dataframe['Total spent'] = marketing_campaign_dataframe.apply(lambda marketing_campaign_dataframe: \n",
        "                           marketing_campaign_dataframe['MntWines'] + marketing_campaign_dataframe['MntFruits'] +\n",
        "                           marketing_campaign_dataframe['MntMeatProducts'] + marketing_campaign_dataframe['MntFishProducts'] + \n",
        "                           marketing_campaign_dataframe['MntSweetProducts'] + marketing_campaign_dataframe['MntGoldProds'], axis=1)\n",
        "\n",
        "marketing_campaign_dataframe['Total accept cmp'] = marketing_campaign_dataframe.apply(lambda marketing_campaign_dataframe: \n",
        "                           marketing_campaign_dataframe['AcceptedCmp1'] + marketing_campaign_dataframe['AcceptedCmp2'] +\n",
        "                           marketing_campaign_dataframe['AcceptedCmp3'] + marketing_campaign_dataframe['AcceptedCmp4'] + \n",
        "                           marketing_campaign_dataframe['AcceptedCmp5'], axis=1)\n",
        "\n",
        "marketing_campaign_dataframe['Total purchases'] = marketing_campaign_dataframe.apply(lambda marketing_campaign_dataframe: \n",
        "                           marketing_campaign_dataframe['NumDealsPurchases'] + marketing_campaign_dataframe['NumWebPurchases'] +\n",
        "                           marketing_campaign_dataframe['NumCatalogPurchases'] + marketing_campaign_dataframe['NumStorePurchases'], axis=1)"
      ],
      "metadata": {
        "id": "UV-r5Z1oPbj5"
      },
      "execution_count": 36,
      "outputs": []
    },
    {
      "cell_type": "code",
      "source": [
        "marketing_campaign_dataframe.head()"
      ],
      "metadata": {
        "id": "ymNM7ZqPPdGr",
        "colab": {
          "base_uri": "https://localhost:8080/",
          "height": 305
        },
        "outputId": "f7fa9f41-60b6-43dd-de86-e7de72a373cb"
      },
      "execution_count": 37,
      "outputs": [
        {
          "output_type": "execute_result",
          "data": {
            "text/html": [
              "\n",
              "  <div id=\"df-6f42ff13-a76c-45d9-8edd-928de9e62cd9\">\n",
              "    <div class=\"colab-df-container\">\n",
              "      <div>\n",
              "<style scoped>\n",
              "    .dataframe tbody tr th:only-of-type {\n",
              "        vertical-align: middle;\n",
              "    }\n",
              "\n",
              "    .dataframe tbody tr th {\n",
              "        vertical-align: top;\n",
              "    }\n",
              "\n",
              "    .dataframe thead th {\n",
              "        text-align: right;\n",
              "    }\n",
              "</style>\n",
              "<table border=\"1\" class=\"dataframe\">\n",
              "  <thead>\n",
              "    <tr style=\"text-align: right;\">\n",
              "      <th></th>\n",
              "      <th>index</th>\n",
              "      <th>ID</th>\n",
              "      <th>Year_Birth</th>\n",
              "      <th>Education</th>\n",
              "      <th>Marital_Status</th>\n",
              "      <th>Income</th>\n",
              "      <th>Kidhome</th>\n",
              "      <th>Teenhome</th>\n",
              "      <th>Dt_Customer</th>\n",
              "      <th>Recency</th>\n",
              "      <th>MntWines</th>\n",
              "      <th>MntFruits</th>\n",
              "      <th>MntMeatProducts</th>\n",
              "      <th>MntFishProducts</th>\n",
              "      <th>MntSweetProducts</th>\n",
              "      <th>MntGoldProds</th>\n",
              "      <th>NumDealsPurchases</th>\n",
              "      <th>NumWebPurchases</th>\n",
              "      <th>NumCatalogPurchases</th>\n",
              "      <th>NumStorePurchases</th>\n",
              "      <th>NumWebVisitsMonth</th>\n",
              "      <th>AcceptedCmp3</th>\n",
              "      <th>AcceptedCmp4</th>\n",
              "      <th>AcceptedCmp5</th>\n",
              "      <th>AcceptedCmp1</th>\n",
              "      <th>AcceptedCmp2</th>\n",
              "      <th>Complain</th>\n",
              "      <th>Z_CostContact</th>\n",
              "      <th>Z_Revenue</th>\n",
              "      <th>Response</th>\n",
              "      <th>Total spent</th>\n",
              "      <th>Total accept cmp</th>\n",
              "      <th>Total purchases</th>\n",
              "    </tr>\n",
              "  </thead>\n",
              "  <tbody>\n",
              "    <tr>\n",
              "      <th>0</th>\n",
              "      <td>0</td>\n",
              "      <td>5524</td>\n",
              "      <td>1957</td>\n",
              "      <td>Graduation</td>\n",
              "      <td>Single</td>\n",
              "      <td>58138.0</td>\n",
              "      <td>0</td>\n",
              "      <td>0</td>\n",
              "      <td>04-09-2012</td>\n",
              "      <td>58</td>\n",
              "      <td>635</td>\n",
              "      <td>88</td>\n",
              "      <td>546</td>\n",
              "      <td>172</td>\n",
              "      <td>88</td>\n",
              "      <td>88</td>\n",
              "      <td>3</td>\n",
              "      <td>8</td>\n",
              "      <td>10</td>\n",
              "      <td>4</td>\n",
              "      <td>7</td>\n",
              "      <td>0</td>\n",
              "      <td>0</td>\n",
              "      <td>0</td>\n",
              "      <td>0</td>\n",
              "      <td>0</td>\n",
              "      <td>0</td>\n",
              "      <td>3</td>\n",
              "      <td>11</td>\n",
              "      <td>1</td>\n",
              "      <td>1617</td>\n",
              "      <td>0</td>\n",
              "      <td>25</td>\n",
              "    </tr>\n",
              "    <tr>\n",
              "      <th>1</th>\n",
              "      <td>1</td>\n",
              "      <td>2174</td>\n",
              "      <td>1954</td>\n",
              "      <td>Graduation</td>\n",
              "      <td>Single</td>\n",
              "      <td>46344.0</td>\n",
              "      <td>1</td>\n",
              "      <td>1</td>\n",
              "      <td>08-03-2014</td>\n",
              "      <td>38</td>\n",
              "      <td>11</td>\n",
              "      <td>1</td>\n",
              "      <td>6</td>\n",
              "      <td>2</td>\n",
              "      <td>1</td>\n",
              "      <td>6</td>\n",
              "      <td>2</td>\n",
              "      <td>1</td>\n",
              "      <td>1</td>\n",
              "      <td>2</td>\n",
              "      <td>5</td>\n",
              "      <td>0</td>\n",
              "      <td>0</td>\n",
              "      <td>0</td>\n",
              "      <td>0</td>\n",
              "      <td>0</td>\n",
              "      <td>0</td>\n",
              "      <td>3</td>\n",
              "      <td>11</td>\n",
              "      <td>0</td>\n",
              "      <td>27</td>\n",
              "      <td>0</td>\n",
              "      <td>6</td>\n",
              "    </tr>\n",
              "    <tr>\n",
              "      <th>2</th>\n",
              "      <td>2</td>\n",
              "      <td>4141</td>\n",
              "      <td>1965</td>\n",
              "      <td>Graduation</td>\n",
              "      <td>Together</td>\n",
              "      <td>71613.0</td>\n",
              "      <td>0</td>\n",
              "      <td>0</td>\n",
              "      <td>21-08-2013</td>\n",
              "      <td>26</td>\n",
              "      <td>426</td>\n",
              "      <td>49</td>\n",
              "      <td>127</td>\n",
              "      <td>111</td>\n",
              "      <td>21</td>\n",
              "      <td>42</td>\n",
              "      <td>1</td>\n",
              "      <td>8</td>\n",
              "      <td>2</td>\n",
              "      <td>10</td>\n",
              "      <td>4</td>\n",
              "      <td>0</td>\n",
              "      <td>0</td>\n",
              "      <td>0</td>\n",
              "      <td>0</td>\n",
              "      <td>0</td>\n",
              "      <td>0</td>\n",
              "      <td>3</td>\n",
              "      <td>11</td>\n",
              "      <td>0</td>\n",
              "      <td>776</td>\n",
              "      <td>0</td>\n",
              "      <td>21</td>\n",
              "    </tr>\n",
              "    <tr>\n",
              "      <th>3</th>\n",
              "      <td>3</td>\n",
              "      <td>6182</td>\n",
              "      <td>1984</td>\n",
              "      <td>Graduation</td>\n",
              "      <td>Together</td>\n",
              "      <td>26646.0</td>\n",
              "      <td>1</td>\n",
              "      <td>0</td>\n",
              "      <td>10-02-2014</td>\n",
              "      <td>26</td>\n",
              "      <td>11</td>\n",
              "      <td>4</td>\n",
              "      <td>20</td>\n",
              "      <td>10</td>\n",
              "      <td>3</td>\n",
              "      <td>5</td>\n",
              "      <td>2</td>\n",
              "      <td>2</td>\n",
              "      <td>0</td>\n",
              "      <td>4</td>\n",
              "      <td>6</td>\n",
              "      <td>0</td>\n",
              "      <td>0</td>\n",
              "      <td>0</td>\n",
              "      <td>0</td>\n",
              "      <td>0</td>\n",
              "      <td>0</td>\n",
              "      <td>3</td>\n",
              "      <td>11</td>\n",
              "      <td>0</td>\n",
              "      <td>53</td>\n",
              "      <td>0</td>\n",
              "      <td>8</td>\n",
              "    </tr>\n",
              "    <tr>\n",
              "      <th>4</th>\n",
              "      <td>4</td>\n",
              "      <td>5324</td>\n",
              "      <td>1981</td>\n",
              "      <td>PhD</td>\n",
              "      <td>Married</td>\n",
              "      <td>58293.0</td>\n",
              "      <td>1</td>\n",
              "      <td>0</td>\n",
              "      <td>19-01-2014</td>\n",
              "      <td>94</td>\n",
              "      <td>173</td>\n",
              "      <td>43</td>\n",
              "      <td>118</td>\n",
              "      <td>46</td>\n",
              "      <td>27</td>\n",
              "      <td>15</td>\n",
              "      <td>5</td>\n",
              "      <td>5</td>\n",
              "      <td>3</td>\n",
              "      <td>6</td>\n",
              "      <td>5</td>\n",
              "      <td>0</td>\n",
              "      <td>0</td>\n",
              "      <td>0</td>\n",
              "      <td>0</td>\n",
              "      <td>0</td>\n",
              "      <td>0</td>\n",
              "      <td>3</td>\n",
              "      <td>11</td>\n",
              "      <td>0</td>\n",
              "      <td>422</td>\n",
              "      <td>0</td>\n",
              "      <td>19</td>\n",
              "    </tr>\n",
              "  </tbody>\n",
              "</table>\n",
              "</div>\n",
              "      <button class=\"colab-df-convert\" onclick=\"convertToInteractive('df-6f42ff13-a76c-45d9-8edd-928de9e62cd9')\"\n",
              "              title=\"Convert this dataframe to an interactive table.\"\n",
              "              style=\"display:none;\">\n",
              "        \n",
              "  <svg xmlns=\"http://www.w3.org/2000/svg\" height=\"24px\"viewBox=\"0 0 24 24\"\n",
              "       width=\"24px\">\n",
              "    <path d=\"M0 0h24v24H0V0z\" fill=\"none\"/>\n",
              "    <path d=\"M18.56 5.44l.94 2.06.94-2.06 2.06-.94-2.06-.94-.94-2.06-.94 2.06-2.06.94zm-11 1L8.5 8.5l.94-2.06 2.06-.94-2.06-.94L8.5 2.5l-.94 2.06-2.06.94zm10 10l.94 2.06.94-2.06 2.06-.94-2.06-.94-.94-2.06-.94 2.06-2.06.94z\"/><path d=\"M17.41 7.96l-1.37-1.37c-.4-.4-.92-.59-1.43-.59-.52 0-1.04.2-1.43.59L10.3 9.45l-7.72 7.72c-.78.78-.78 2.05 0 2.83L4 21.41c.39.39.9.59 1.41.59.51 0 1.02-.2 1.41-.59l7.78-7.78 2.81-2.81c.8-.78.8-2.07 0-2.86zM5.41 20L4 18.59l7.72-7.72 1.47 1.35L5.41 20z\"/>\n",
              "  </svg>\n",
              "      </button>\n",
              "      \n",
              "  <style>\n",
              "    .colab-df-container {\n",
              "      display:flex;\n",
              "      flex-wrap:wrap;\n",
              "      gap: 12px;\n",
              "    }\n",
              "\n",
              "    .colab-df-convert {\n",
              "      background-color: #E8F0FE;\n",
              "      border: none;\n",
              "      border-radius: 50%;\n",
              "      cursor: pointer;\n",
              "      display: none;\n",
              "      fill: #1967D2;\n",
              "      height: 32px;\n",
              "      padding: 0 0 0 0;\n",
              "      width: 32px;\n",
              "    }\n",
              "\n",
              "    .colab-df-convert:hover {\n",
              "      background-color: #E2EBFA;\n",
              "      box-shadow: 0px 1px 2px rgba(60, 64, 67, 0.3), 0px 1px 3px 1px rgba(60, 64, 67, 0.15);\n",
              "      fill: #174EA6;\n",
              "    }\n",
              "\n",
              "    [theme=dark] .colab-df-convert {\n",
              "      background-color: #3B4455;\n",
              "      fill: #D2E3FC;\n",
              "    }\n",
              "\n",
              "    [theme=dark] .colab-df-convert:hover {\n",
              "      background-color: #434B5C;\n",
              "      box-shadow: 0px 1px 3px 1px rgba(0, 0, 0, 0.15);\n",
              "      filter: drop-shadow(0px 1px 2px rgba(0, 0, 0, 0.3));\n",
              "      fill: #FFFFFF;\n",
              "    }\n",
              "  </style>\n",
              "\n",
              "      <script>\n",
              "        const buttonEl =\n",
              "          document.querySelector('#df-6f42ff13-a76c-45d9-8edd-928de9e62cd9 button.colab-df-convert');\n",
              "        buttonEl.style.display =\n",
              "          google.colab.kernel.accessAllowed ? 'block' : 'none';\n",
              "\n",
              "        async function convertToInteractive(key) {\n",
              "          const element = document.querySelector('#df-6f42ff13-a76c-45d9-8edd-928de9e62cd9');\n",
              "          const dataTable =\n",
              "            await google.colab.kernel.invokeFunction('convertToInteractive',\n",
              "                                                     [key], {});\n",
              "          if (!dataTable) return;\n",
              "\n",
              "          const docLinkHtml = 'Like what you see? Visit the ' +\n",
              "            '<a target=\"_blank\" href=https://colab.research.google.com/notebooks/data_table.ipynb>data table notebook</a>'\n",
              "            + ' to learn more about interactive tables.';\n",
              "          element.innerHTML = '';\n",
              "          dataTable['output_type'] = 'display_data';\n",
              "          await google.colab.output.renderOutput(dataTable, element);\n",
              "          const docLink = document.createElement('div');\n",
              "          docLink.innerHTML = docLinkHtml;\n",
              "          element.appendChild(docLink);\n",
              "        }\n",
              "      </script>\n",
              "    </div>\n",
              "  </div>\n",
              "  "
            ],
            "text/plain": [
              "   index    ID  Year_Birth  ... Total spent Total accept cmp  Total purchases\n",
              "0      0  5524        1957  ...        1617                0               25\n",
              "1      1  2174        1954  ...          27                0                6\n",
              "2      2  4141        1965  ...         776                0               21\n",
              "3      3  6182        1984  ...          53                0                8\n",
              "4      4  5324        1981  ...         422                0               19\n",
              "\n",
              "[5 rows x 33 columns]"
            ]
          },
          "metadata": {},
          "execution_count": 37
        }
      ]
    },
    {
      "cell_type": "code",
      "source": [
        "len(marketing_campaign_dataframe.columns)"
      ],
      "metadata": {
        "id": "jqZvgthRRR67",
        "colab": {
          "base_uri": "https://localhost:8080/"
        },
        "outputId": "7fadd93e-3464-4905-be8b-2ca1e7cc0001"
      },
      "execution_count": 38,
      "outputs": [
        {
          "output_type": "execute_result",
          "data": {
            "text/plain": [
              "33"
            ]
          },
          "metadata": {},
          "execution_count": 38
        }
      ]
    },
    {
      "cell_type": "code",
      "source": [
        "from sklearn.cluster import KMeans\n",
        "\n",
        "X = marketing_campaign_dataframe[['ID', 'Education', 'Marital_Status', 'Income',\n",
        "                                  'Kidhome', 'Teenhome', 'Recency', 'Complain', \n",
        "                                  'MntWines', 'MntFruits', 'MntMeatProducts',\n",
        "                                  'MntFishProducts', 'MntSweetProducts', 'MntGoldProds', \n",
        "                                  'NumDealsPurchases', 'NumWebPurchases', 'NumCatalogPurchases', \n",
        "                                  'NumStorePurchases', 'NumWebVisitsMonth', 'AcceptedCmp3',\n",
        "                                  'AcceptedCmp4', 'AcceptedCmp5', 'AcceptedCmp1', 'AcceptedCmp2',\n",
        "                                  'Complain', 'Response', 'Total spent', 'Total accept cmp',\n",
        "                                  'Total purchases']].copy()\n",
        "\n",
        "X.columns = ['ID', 'Education', 'Marital_Status', 'Income',\n",
        "                                  'Kidhome', 'Teenhome', 'Recency', 'Complain', \n",
        "                                  'MntWines', 'MntFruits', 'MntMeatProducts',\n",
        "                                  'MntFishProducts', 'MntSweetProducts', 'MntGoldProds', \n",
        "                                  'NumDealsPurchases', 'NumWebPurchases', 'NumCatalogPurchases', \n",
        "                                  'NumStorePurchases', 'NumWebVisitsMonth', 'AcceptedCmp3',\n",
        "                                  'AcceptedCmp4', 'AcceptedCmp5', 'AcceptedCmp1', 'AcceptedCmp2',\n",
        "                                  'Complain', 'Response', 'Total spent', 'Total accept cmp',\n",
        "                                  'Total purchases']"
      ],
      "metadata": {
        "id": "QVjPZLNpQeR6"
      },
      "execution_count": 39,
      "outputs": []
    },
    {
      "cell_type": "code",
      "source": [
        "X.head()"
      ],
      "metadata": {
        "id": "RXMavKUpQmX7",
        "colab": {
          "base_uri": "https://localhost:8080/",
          "height": 305
        },
        "outputId": "59a3ba9f-ea75-44ec-f80a-a8dba25d0903"
      },
      "execution_count": 40,
      "outputs": [
        {
          "output_type": "execute_result",
          "data": {
            "text/html": [
              "\n",
              "  <div id=\"df-3b88e2a7-0050-4ad9-9f32-cfb5351543fc\">\n",
              "    <div class=\"colab-df-container\">\n",
              "      <div>\n",
              "<style scoped>\n",
              "    .dataframe tbody tr th:only-of-type {\n",
              "        vertical-align: middle;\n",
              "    }\n",
              "\n",
              "    .dataframe tbody tr th {\n",
              "        vertical-align: top;\n",
              "    }\n",
              "\n",
              "    .dataframe thead th {\n",
              "        text-align: right;\n",
              "    }\n",
              "</style>\n",
              "<table border=\"1\" class=\"dataframe\">\n",
              "  <thead>\n",
              "    <tr style=\"text-align: right;\">\n",
              "      <th></th>\n",
              "      <th>ID</th>\n",
              "      <th>Education</th>\n",
              "      <th>Marital_Status</th>\n",
              "      <th>Income</th>\n",
              "      <th>Kidhome</th>\n",
              "      <th>Teenhome</th>\n",
              "      <th>Recency</th>\n",
              "      <th>Complain</th>\n",
              "      <th>MntWines</th>\n",
              "      <th>MntFruits</th>\n",
              "      <th>MntMeatProducts</th>\n",
              "      <th>MntFishProducts</th>\n",
              "      <th>MntSweetProducts</th>\n",
              "      <th>MntGoldProds</th>\n",
              "      <th>NumDealsPurchases</th>\n",
              "      <th>NumWebPurchases</th>\n",
              "      <th>NumCatalogPurchases</th>\n",
              "      <th>NumStorePurchases</th>\n",
              "      <th>NumWebVisitsMonth</th>\n",
              "      <th>AcceptedCmp3</th>\n",
              "      <th>AcceptedCmp4</th>\n",
              "      <th>AcceptedCmp5</th>\n",
              "      <th>AcceptedCmp1</th>\n",
              "      <th>AcceptedCmp2</th>\n",
              "      <th>Complain</th>\n",
              "      <th>Response</th>\n",
              "      <th>Total spent</th>\n",
              "      <th>Total accept cmp</th>\n",
              "      <th>Total purchases</th>\n",
              "    </tr>\n",
              "  </thead>\n",
              "  <tbody>\n",
              "    <tr>\n",
              "      <th>0</th>\n",
              "      <td>5524</td>\n",
              "      <td>Graduation</td>\n",
              "      <td>Single</td>\n",
              "      <td>58138.0</td>\n",
              "      <td>0</td>\n",
              "      <td>0</td>\n",
              "      <td>58</td>\n",
              "      <td>0</td>\n",
              "      <td>635</td>\n",
              "      <td>88</td>\n",
              "      <td>546</td>\n",
              "      <td>172</td>\n",
              "      <td>88</td>\n",
              "      <td>88</td>\n",
              "      <td>3</td>\n",
              "      <td>8</td>\n",
              "      <td>10</td>\n",
              "      <td>4</td>\n",
              "      <td>7</td>\n",
              "      <td>0</td>\n",
              "      <td>0</td>\n",
              "      <td>0</td>\n",
              "      <td>0</td>\n",
              "      <td>0</td>\n",
              "      <td>0</td>\n",
              "      <td>1</td>\n",
              "      <td>1617</td>\n",
              "      <td>0</td>\n",
              "      <td>25</td>\n",
              "    </tr>\n",
              "    <tr>\n",
              "      <th>1</th>\n",
              "      <td>2174</td>\n",
              "      <td>Graduation</td>\n",
              "      <td>Single</td>\n",
              "      <td>46344.0</td>\n",
              "      <td>1</td>\n",
              "      <td>1</td>\n",
              "      <td>38</td>\n",
              "      <td>0</td>\n",
              "      <td>11</td>\n",
              "      <td>1</td>\n",
              "      <td>6</td>\n",
              "      <td>2</td>\n",
              "      <td>1</td>\n",
              "      <td>6</td>\n",
              "      <td>2</td>\n",
              "      <td>1</td>\n",
              "      <td>1</td>\n",
              "      <td>2</td>\n",
              "      <td>5</td>\n",
              "      <td>0</td>\n",
              "      <td>0</td>\n",
              "      <td>0</td>\n",
              "      <td>0</td>\n",
              "      <td>0</td>\n",
              "      <td>0</td>\n",
              "      <td>0</td>\n",
              "      <td>27</td>\n",
              "      <td>0</td>\n",
              "      <td>6</td>\n",
              "    </tr>\n",
              "    <tr>\n",
              "      <th>2</th>\n",
              "      <td>4141</td>\n",
              "      <td>Graduation</td>\n",
              "      <td>Together</td>\n",
              "      <td>71613.0</td>\n",
              "      <td>0</td>\n",
              "      <td>0</td>\n",
              "      <td>26</td>\n",
              "      <td>0</td>\n",
              "      <td>426</td>\n",
              "      <td>49</td>\n",
              "      <td>127</td>\n",
              "      <td>111</td>\n",
              "      <td>21</td>\n",
              "      <td>42</td>\n",
              "      <td>1</td>\n",
              "      <td>8</td>\n",
              "      <td>2</td>\n",
              "      <td>10</td>\n",
              "      <td>4</td>\n",
              "      <td>0</td>\n",
              "      <td>0</td>\n",
              "      <td>0</td>\n",
              "      <td>0</td>\n",
              "      <td>0</td>\n",
              "      <td>0</td>\n",
              "      <td>0</td>\n",
              "      <td>776</td>\n",
              "      <td>0</td>\n",
              "      <td>21</td>\n",
              "    </tr>\n",
              "    <tr>\n",
              "      <th>3</th>\n",
              "      <td>6182</td>\n",
              "      <td>Graduation</td>\n",
              "      <td>Together</td>\n",
              "      <td>26646.0</td>\n",
              "      <td>1</td>\n",
              "      <td>0</td>\n",
              "      <td>26</td>\n",
              "      <td>0</td>\n",
              "      <td>11</td>\n",
              "      <td>4</td>\n",
              "      <td>20</td>\n",
              "      <td>10</td>\n",
              "      <td>3</td>\n",
              "      <td>5</td>\n",
              "      <td>2</td>\n",
              "      <td>2</td>\n",
              "      <td>0</td>\n",
              "      <td>4</td>\n",
              "      <td>6</td>\n",
              "      <td>0</td>\n",
              "      <td>0</td>\n",
              "      <td>0</td>\n",
              "      <td>0</td>\n",
              "      <td>0</td>\n",
              "      <td>0</td>\n",
              "      <td>0</td>\n",
              "      <td>53</td>\n",
              "      <td>0</td>\n",
              "      <td>8</td>\n",
              "    </tr>\n",
              "    <tr>\n",
              "      <th>4</th>\n",
              "      <td>5324</td>\n",
              "      <td>PhD</td>\n",
              "      <td>Married</td>\n",
              "      <td>58293.0</td>\n",
              "      <td>1</td>\n",
              "      <td>0</td>\n",
              "      <td>94</td>\n",
              "      <td>0</td>\n",
              "      <td>173</td>\n",
              "      <td>43</td>\n",
              "      <td>118</td>\n",
              "      <td>46</td>\n",
              "      <td>27</td>\n",
              "      <td>15</td>\n",
              "      <td>5</td>\n",
              "      <td>5</td>\n",
              "      <td>3</td>\n",
              "      <td>6</td>\n",
              "      <td>5</td>\n",
              "      <td>0</td>\n",
              "      <td>0</td>\n",
              "      <td>0</td>\n",
              "      <td>0</td>\n",
              "      <td>0</td>\n",
              "      <td>0</td>\n",
              "      <td>0</td>\n",
              "      <td>422</td>\n",
              "      <td>0</td>\n",
              "      <td>19</td>\n",
              "    </tr>\n",
              "  </tbody>\n",
              "</table>\n",
              "</div>\n",
              "      <button class=\"colab-df-convert\" onclick=\"convertToInteractive('df-3b88e2a7-0050-4ad9-9f32-cfb5351543fc')\"\n",
              "              title=\"Convert this dataframe to an interactive table.\"\n",
              "              style=\"display:none;\">\n",
              "        \n",
              "  <svg xmlns=\"http://www.w3.org/2000/svg\" height=\"24px\"viewBox=\"0 0 24 24\"\n",
              "       width=\"24px\">\n",
              "    <path d=\"M0 0h24v24H0V0z\" fill=\"none\"/>\n",
              "    <path d=\"M18.56 5.44l.94 2.06.94-2.06 2.06-.94-2.06-.94-.94-2.06-.94 2.06-2.06.94zm-11 1L8.5 8.5l.94-2.06 2.06-.94-2.06-.94L8.5 2.5l-.94 2.06-2.06.94zm10 10l.94 2.06.94-2.06 2.06-.94-2.06-.94-.94-2.06-.94 2.06-2.06.94z\"/><path d=\"M17.41 7.96l-1.37-1.37c-.4-.4-.92-.59-1.43-.59-.52 0-1.04.2-1.43.59L10.3 9.45l-7.72 7.72c-.78.78-.78 2.05 0 2.83L4 21.41c.39.39.9.59 1.41.59.51 0 1.02-.2 1.41-.59l7.78-7.78 2.81-2.81c.8-.78.8-2.07 0-2.86zM5.41 20L4 18.59l7.72-7.72 1.47 1.35L5.41 20z\"/>\n",
              "  </svg>\n",
              "      </button>\n",
              "      \n",
              "  <style>\n",
              "    .colab-df-container {\n",
              "      display:flex;\n",
              "      flex-wrap:wrap;\n",
              "      gap: 12px;\n",
              "    }\n",
              "\n",
              "    .colab-df-convert {\n",
              "      background-color: #E8F0FE;\n",
              "      border: none;\n",
              "      border-radius: 50%;\n",
              "      cursor: pointer;\n",
              "      display: none;\n",
              "      fill: #1967D2;\n",
              "      height: 32px;\n",
              "      padding: 0 0 0 0;\n",
              "      width: 32px;\n",
              "    }\n",
              "\n",
              "    .colab-df-convert:hover {\n",
              "      background-color: #E2EBFA;\n",
              "      box-shadow: 0px 1px 2px rgba(60, 64, 67, 0.3), 0px 1px 3px 1px rgba(60, 64, 67, 0.15);\n",
              "      fill: #174EA6;\n",
              "    }\n",
              "\n",
              "    [theme=dark] .colab-df-convert {\n",
              "      background-color: #3B4455;\n",
              "      fill: #D2E3FC;\n",
              "    }\n",
              "\n",
              "    [theme=dark] .colab-df-convert:hover {\n",
              "      background-color: #434B5C;\n",
              "      box-shadow: 0px 1px 3px 1px rgba(0, 0, 0, 0.15);\n",
              "      filter: drop-shadow(0px 1px 2px rgba(0, 0, 0, 0.3));\n",
              "      fill: #FFFFFF;\n",
              "    }\n",
              "  </style>\n",
              "\n",
              "      <script>\n",
              "        const buttonEl =\n",
              "          document.querySelector('#df-3b88e2a7-0050-4ad9-9f32-cfb5351543fc button.colab-df-convert');\n",
              "        buttonEl.style.display =\n",
              "          google.colab.kernel.accessAllowed ? 'block' : 'none';\n",
              "\n",
              "        async function convertToInteractive(key) {\n",
              "          const element = document.querySelector('#df-3b88e2a7-0050-4ad9-9f32-cfb5351543fc');\n",
              "          const dataTable =\n",
              "            await google.colab.kernel.invokeFunction('convertToInteractive',\n",
              "                                                     [key], {});\n",
              "          if (!dataTable) return;\n",
              "\n",
              "          const docLinkHtml = 'Like what you see? Visit the ' +\n",
              "            '<a target=\"_blank\" href=https://colab.research.google.com/notebooks/data_table.ipynb>data table notebook</a>'\n",
              "            + ' to learn more about interactive tables.';\n",
              "          element.innerHTML = '';\n",
              "          dataTable['output_type'] = 'display_data';\n",
              "          await google.colab.output.renderOutput(dataTable, element);\n",
              "          const docLink = document.createElement('div');\n",
              "          docLink.innerHTML = docLinkHtml;\n",
              "          element.appendChild(docLink);\n",
              "        }\n",
              "      </script>\n",
              "    </div>\n",
              "  </div>\n",
              "  "
            ],
            "text/plain": [
              "     ID   Education  ... Total accept cmp  Total purchases\n",
              "0  5524  Graduation  ...                0               25\n",
              "1  2174  Graduation  ...                0                6\n",
              "2  4141  Graduation  ...                0               21\n",
              "3  6182  Graduation  ...                0                8\n",
              "4  5324         PhD  ...                0               19\n",
              "\n",
              "[5 rows x 29 columns]"
            ]
          },
          "metadata": {},
          "execution_count": 40
        }
      ]
    },
    {
      "cell_type": "code",
      "source": [
        "len(X.columns)"
      ],
      "metadata": {
        "id": "LeHfi8fuQ-_K",
        "colab": {
          "base_uri": "https://localhost:8080/"
        },
        "outputId": "c5d2b3c2-fc23-4071-b659-330cc9df9af3"
      },
      "execution_count": 41,
      "outputs": [
        {
          "output_type": "execute_result",
          "data": {
            "text/plain": [
              "29"
            ]
          },
          "metadata": {},
          "execution_count": 41
        }
      ]
    },
    {
      "cell_type": "code",
      "source": [
        "from sklearn.preprocessing import OneHotEncoder\n",
        "\n",
        "X = pd.get_dummies(X, columns=['Education', 'Marital_Status'])\n",
        "X.columns = ['ID', 'Income',\n",
        "                                  'Kidhome', 'Teenhome', 'Recency', 'Complain', \n",
        "                                  'MntWines', 'MntFruits', 'MntMeatProducts',\n",
        "                                  'MntFishProducts', 'MntSweetProducts', 'MntGoldProds', \n",
        "                                  'NumDealsPurchases', 'NumWebPurchases', 'NumCatalogPurchases', \n",
        "                                  'NumStorePurchases', 'NumWebVisitsMonth', 'AcceptedCmp3',\n",
        "                                  'AcceptedCmp4', 'AcceptedCmp5', 'AcceptedCmp1', 'AcceptedCmp2',\n",
        "                                  'Complain', 'Response', 'Total spent', 'Total accept cmp',\n",
        "                                  'Total purchases', 'Doctor', 'High School', 'Higher Education', 'Master', 'PhD',\n",
        "             'Absurd Marital Status', 'Alone Marital Status', 'Divorced Marital Status',\n",
        "             'Married Marital Status', 'Single Marital Status', 'Married Marital Status',\n",
        "             'Widowed Civil Status', 'Detached Civil Status']"
      ],
      "metadata": {
        "id": "eIw2C3zyRl_8"
      },
      "execution_count": 42,
      "outputs": []
    },
    {
      "cell_type": "code",
      "source": [
        "X.head()"
      ],
      "metadata": {
        "id": "fTEnh4uDdNkQ",
        "colab": {
          "base_uri": "https://localhost:8080/",
          "height": 305
        },
        "outputId": "539a64f9-50f6-4e49-bee4-6c2d58e882d3"
      },
      "execution_count": 43,
      "outputs": [
        {
          "output_type": "execute_result",
          "data": {
            "text/html": [
              "\n",
              "  <div id=\"df-449117df-188c-4389-a34b-aceba1ea74cf\">\n",
              "    <div class=\"colab-df-container\">\n",
              "      <div>\n",
              "<style scoped>\n",
              "    .dataframe tbody tr th:only-of-type {\n",
              "        vertical-align: middle;\n",
              "    }\n",
              "\n",
              "    .dataframe tbody tr th {\n",
              "        vertical-align: top;\n",
              "    }\n",
              "\n",
              "    .dataframe thead th {\n",
              "        text-align: right;\n",
              "    }\n",
              "</style>\n",
              "<table border=\"1\" class=\"dataframe\">\n",
              "  <thead>\n",
              "    <tr style=\"text-align: right;\">\n",
              "      <th></th>\n",
              "      <th>ID</th>\n",
              "      <th>Income</th>\n",
              "      <th>Kidhome</th>\n",
              "      <th>Teenhome</th>\n",
              "      <th>Recency</th>\n",
              "      <th>Complain</th>\n",
              "      <th>MntWines</th>\n",
              "      <th>MntFruits</th>\n",
              "      <th>MntMeatProducts</th>\n",
              "      <th>MntFishProducts</th>\n",
              "      <th>MntSweetProducts</th>\n",
              "      <th>MntGoldProds</th>\n",
              "      <th>NumDealsPurchases</th>\n",
              "      <th>NumWebPurchases</th>\n",
              "      <th>NumCatalogPurchases</th>\n",
              "      <th>NumStorePurchases</th>\n",
              "      <th>NumWebVisitsMonth</th>\n",
              "      <th>AcceptedCmp3</th>\n",
              "      <th>AcceptedCmp4</th>\n",
              "      <th>AcceptedCmp5</th>\n",
              "      <th>AcceptedCmp1</th>\n",
              "      <th>AcceptedCmp2</th>\n",
              "      <th>Complain</th>\n",
              "      <th>Response</th>\n",
              "      <th>Total spent</th>\n",
              "      <th>Total accept cmp</th>\n",
              "      <th>Total purchases</th>\n",
              "      <th>Doctor</th>\n",
              "      <th>High School</th>\n",
              "      <th>Higher Education</th>\n",
              "      <th>Master</th>\n",
              "      <th>PhD</th>\n",
              "      <th>Absurd Marital Status</th>\n",
              "      <th>Alone Marital Status</th>\n",
              "      <th>Divorced Marital Status</th>\n",
              "      <th>Married Marital Status</th>\n",
              "      <th>Single Marital Status</th>\n",
              "      <th>Married Marital Status</th>\n",
              "      <th>Widowed Civil Status</th>\n",
              "      <th>Detached Civil Status</th>\n",
              "    </tr>\n",
              "  </thead>\n",
              "  <tbody>\n",
              "    <tr>\n",
              "      <th>0</th>\n",
              "      <td>5524</td>\n",
              "      <td>58138.0</td>\n",
              "      <td>0</td>\n",
              "      <td>0</td>\n",
              "      <td>58</td>\n",
              "      <td>0</td>\n",
              "      <td>635</td>\n",
              "      <td>88</td>\n",
              "      <td>546</td>\n",
              "      <td>172</td>\n",
              "      <td>88</td>\n",
              "      <td>88</td>\n",
              "      <td>3</td>\n",
              "      <td>8</td>\n",
              "      <td>10</td>\n",
              "      <td>4</td>\n",
              "      <td>7</td>\n",
              "      <td>0</td>\n",
              "      <td>0</td>\n",
              "      <td>0</td>\n",
              "      <td>0</td>\n",
              "      <td>0</td>\n",
              "      <td>0</td>\n",
              "      <td>1</td>\n",
              "      <td>1617</td>\n",
              "      <td>0</td>\n",
              "      <td>25</td>\n",
              "      <td>0</td>\n",
              "      <td>0</td>\n",
              "      <td>1</td>\n",
              "      <td>0</td>\n",
              "      <td>0</td>\n",
              "      <td>0</td>\n",
              "      <td>0</td>\n",
              "      <td>0</td>\n",
              "      <td>0</td>\n",
              "      <td>1</td>\n",
              "      <td>0</td>\n",
              "      <td>0</td>\n",
              "      <td>0</td>\n",
              "    </tr>\n",
              "    <tr>\n",
              "      <th>1</th>\n",
              "      <td>2174</td>\n",
              "      <td>46344.0</td>\n",
              "      <td>1</td>\n",
              "      <td>1</td>\n",
              "      <td>38</td>\n",
              "      <td>0</td>\n",
              "      <td>11</td>\n",
              "      <td>1</td>\n",
              "      <td>6</td>\n",
              "      <td>2</td>\n",
              "      <td>1</td>\n",
              "      <td>6</td>\n",
              "      <td>2</td>\n",
              "      <td>1</td>\n",
              "      <td>1</td>\n",
              "      <td>2</td>\n",
              "      <td>5</td>\n",
              "      <td>0</td>\n",
              "      <td>0</td>\n",
              "      <td>0</td>\n",
              "      <td>0</td>\n",
              "      <td>0</td>\n",
              "      <td>0</td>\n",
              "      <td>0</td>\n",
              "      <td>27</td>\n",
              "      <td>0</td>\n",
              "      <td>6</td>\n",
              "      <td>0</td>\n",
              "      <td>0</td>\n",
              "      <td>1</td>\n",
              "      <td>0</td>\n",
              "      <td>0</td>\n",
              "      <td>0</td>\n",
              "      <td>0</td>\n",
              "      <td>0</td>\n",
              "      <td>0</td>\n",
              "      <td>1</td>\n",
              "      <td>0</td>\n",
              "      <td>0</td>\n",
              "      <td>0</td>\n",
              "    </tr>\n",
              "    <tr>\n",
              "      <th>2</th>\n",
              "      <td>4141</td>\n",
              "      <td>71613.0</td>\n",
              "      <td>0</td>\n",
              "      <td>0</td>\n",
              "      <td>26</td>\n",
              "      <td>0</td>\n",
              "      <td>426</td>\n",
              "      <td>49</td>\n",
              "      <td>127</td>\n",
              "      <td>111</td>\n",
              "      <td>21</td>\n",
              "      <td>42</td>\n",
              "      <td>1</td>\n",
              "      <td>8</td>\n",
              "      <td>2</td>\n",
              "      <td>10</td>\n",
              "      <td>4</td>\n",
              "      <td>0</td>\n",
              "      <td>0</td>\n",
              "      <td>0</td>\n",
              "      <td>0</td>\n",
              "      <td>0</td>\n",
              "      <td>0</td>\n",
              "      <td>0</td>\n",
              "      <td>776</td>\n",
              "      <td>0</td>\n",
              "      <td>21</td>\n",
              "      <td>0</td>\n",
              "      <td>0</td>\n",
              "      <td>1</td>\n",
              "      <td>0</td>\n",
              "      <td>0</td>\n",
              "      <td>0</td>\n",
              "      <td>0</td>\n",
              "      <td>0</td>\n",
              "      <td>0</td>\n",
              "      <td>0</td>\n",
              "      <td>1</td>\n",
              "      <td>0</td>\n",
              "      <td>0</td>\n",
              "    </tr>\n",
              "    <tr>\n",
              "      <th>3</th>\n",
              "      <td>6182</td>\n",
              "      <td>26646.0</td>\n",
              "      <td>1</td>\n",
              "      <td>0</td>\n",
              "      <td>26</td>\n",
              "      <td>0</td>\n",
              "      <td>11</td>\n",
              "      <td>4</td>\n",
              "      <td>20</td>\n",
              "      <td>10</td>\n",
              "      <td>3</td>\n",
              "      <td>5</td>\n",
              "      <td>2</td>\n",
              "      <td>2</td>\n",
              "      <td>0</td>\n",
              "      <td>4</td>\n",
              "      <td>6</td>\n",
              "      <td>0</td>\n",
              "      <td>0</td>\n",
              "      <td>0</td>\n",
              "      <td>0</td>\n",
              "      <td>0</td>\n",
              "      <td>0</td>\n",
              "      <td>0</td>\n",
              "      <td>53</td>\n",
              "      <td>0</td>\n",
              "      <td>8</td>\n",
              "      <td>0</td>\n",
              "      <td>0</td>\n",
              "      <td>1</td>\n",
              "      <td>0</td>\n",
              "      <td>0</td>\n",
              "      <td>0</td>\n",
              "      <td>0</td>\n",
              "      <td>0</td>\n",
              "      <td>0</td>\n",
              "      <td>0</td>\n",
              "      <td>1</td>\n",
              "      <td>0</td>\n",
              "      <td>0</td>\n",
              "    </tr>\n",
              "    <tr>\n",
              "      <th>4</th>\n",
              "      <td>5324</td>\n",
              "      <td>58293.0</td>\n",
              "      <td>1</td>\n",
              "      <td>0</td>\n",
              "      <td>94</td>\n",
              "      <td>0</td>\n",
              "      <td>173</td>\n",
              "      <td>43</td>\n",
              "      <td>118</td>\n",
              "      <td>46</td>\n",
              "      <td>27</td>\n",
              "      <td>15</td>\n",
              "      <td>5</td>\n",
              "      <td>5</td>\n",
              "      <td>3</td>\n",
              "      <td>6</td>\n",
              "      <td>5</td>\n",
              "      <td>0</td>\n",
              "      <td>0</td>\n",
              "      <td>0</td>\n",
              "      <td>0</td>\n",
              "      <td>0</td>\n",
              "      <td>0</td>\n",
              "      <td>0</td>\n",
              "      <td>422</td>\n",
              "      <td>0</td>\n",
              "      <td>19</td>\n",
              "      <td>0</td>\n",
              "      <td>0</td>\n",
              "      <td>0</td>\n",
              "      <td>0</td>\n",
              "      <td>1</td>\n",
              "      <td>0</td>\n",
              "      <td>0</td>\n",
              "      <td>0</td>\n",
              "      <td>1</td>\n",
              "      <td>0</td>\n",
              "      <td>0</td>\n",
              "      <td>0</td>\n",
              "      <td>0</td>\n",
              "    </tr>\n",
              "  </tbody>\n",
              "</table>\n",
              "</div>\n",
              "      <button class=\"colab-df-convert\" onclick=\"convertToInteractive('df-449117df-188c-4389-a34b-aceba1ea74cf')\"\n",
              "              title=\"Convert this dataframe to an interactive table.\"\n",
              "              style=\"display:none;\">\n",
              "        \n",
              "  <svg xmlns=\"http://www.w3.org/2000/svg\" height=\"24px\"viewBox=\"0 0 24 24\"\n",
              "       width=\"24px\">\n",
              "    <path d=\"M0 0h24v24H0V0z\" fill=\"none\"/>\n",
              "    <path d=\"M18.56 5.44l.94 2.06.94-2.06 2.06-.94-2.06-.94-.94-2.06-.94 2.06-2.06.94zm-11 1L8.5 8.5l.94-2.06 2.06-.94-2.06-.94L8.5 2.5l-.94 2.06-2.06.94zm10 10l.94 2.06.94-2.06 2.06-.94-2.06-.94-.94-2.06-.94 2.06-2.06.94z\"/><path d=\"M17.41 7.96l-1.37-1.37c-.4-.4-.92-.59-1.43-.59-.52 0-1.04.2-1.43.59L10.3 9.45l-7.72 7.72c-.78.78-.78 2.05 0 2.83L4 21.41c.39.39.9.59 1.41.59.51 0 1.02-.2 1.41-.59l7.78-7.78 2.81-2.81c.8-.78.8-2.07 0-2.86zM5.41 20L4 18.59l7.72-7.72 1.47 1.35L5.41 20z\"/>\n",
              "  </svg>\n",
              "      </button>\n",
              "      \n",
              "  <style>\n",
              "    .colab-df-container {\n",
              "      display:flex;\n",
              "      flex-wrap:wrap;\n",
              "      gap: 12px;\n",
              "    }\n",
              "\n",
              "    .colab-df-convert {\n",
              "      background-color: #E8F0FE;\n",
              "      border: none;\n",
              "      border-radius: 50%;\n",
              "      cursor: pointer;\n",
              "      display: none;\n",
              "      fill: #1967D2;\n",
              "      height: 32px;\n",
              "      padding: 0 0 0 0;\n",
              "      width: 32px;\n",
              "    }\n",
              "\n",
              "    .colab-df-convert:hover {\n",
              "      background-color: #E2EBFA;\n",
              "      box-shadow: 0px 1px 2px rgba(60, 64, 67, 0.3), 0px 1px 3px 1px rgba(60, 64, 67, 0.15);\n",
              "      fill: #174EA6;\n",
              "    }\n",
              "\n",
              "    [theme=dark] .colab-df-convert {\n",
              "      background-color: #3B4455;\n",
              "      fill: #D2E3FC;\n",
              "    }\n",
              "\n",
              "    [theme=dark] .colab-df-convert:hover {\n",
              "      background-color: #434B5C;\n",
              "      box-shadow: 0px 1px 3px 1px rgba(0, 0, 0, 0.15);\n",
              "      filter: drop-shadow(0px 1px 2px rgba(0, 0, 0, 0.3));\n",
              "      fill: #FFFFFF;\n",
              "    }\n",
              "  </style>\n",
              "\n",
              "      <script>\n",
              "        const buttonEl =\n",
              "          document.querySelector('#df-449117df-188c-4389-a34b-aceba1ea74cf button.colab-df-convert');\n",
              "        buttonEl.style.display =\n",
              "          google.colab.kernel.accessAllowed ? 'block' : 'none';\n",
              "\n",
              "        async function convertToInteractive(key) {\n",
              "          const element = document.querySelector('#df-449117df-188c-4389-a34b-aceba1ea74cf');\n",
              "          const dataTable =\n",
              "            await google.colab.kernel.invokeFunction('convertToInteractive',\n",
              "                                                     [key], {});\n",
              "          if (!dataTable) return;\n",
              "\n",
              "          const docLinkHtml = 'Like what you see? Visit the ' +\n",
              "            '<a target=\"_blank\" href=https://colab.research.google.com/notebooks/data_table.ipynb>data table notebook</a>'\n",
              "            + ' to learn more about interactive tables.';\n",
              "          element.innerHTML = '';\n",
              "          dataTable['output_type'] = 'display_data';\n",
              "          await google.colab.output.renderOutput(dataTable, element);\n",
              "          const docLink = document.createElement('div');\n",
              "          docLink.innerHTML = docLinkHtml;\n",
              "          element.appendChild(docLink);\n",
              "        }\n",
              "      </script>\n",
              "    </div>\n",
              "  </div>\n",
              "  "
            ],
            "text/plain": [
              "     ID   Income  ...  Widowed Civil Status  Detached Civil Status\n",
              "0  5524  58138.0  ...                     0                      0\n",
              "1  2174  46344.0  ...                     0                      0\n",
              "2  4141  71613.0  ...                     0                      0\n",
              "3  6182  26646.0  ...                     0                      0\n",
              "4  5324  58293.0  ...                     0                      0\n",
              "\n",
              "[5 rows x 40 columns]"
            ]
          },
          "metadata": {},
          "execution_count": 43
        }
      ]
    },
    {
      "cell_type": "code",
      "source": [
        "len(X.columns)"
      ],
      "metadata": {
        "id": "Gdyyan_7flOS",
        "colab": {
          "base_uri": "https://localhost:8080/"
        },
        "outputId": "657e9793-e42b-453c-cf64-bf3b938dec98"
      },
      "execution_count": 44,
      "outputs": [
        {
          "output_type": "execute_result",
          "data": {
            "text/plain": [
              "40"
            ]
          },
          "metadata": {},
          "execution_count": 44
        }
      ]
    },
    {
      "cell_type": "code",
      "source": [
        "for content in X:\n",
        "    X.dropna(subset=[content], inplace=True)"
      ],
      "metadata": {
        "id": "7MsPv48sfoS6"
      },
      "execution_count": 45,
      "outputs": []
    },
    {
      "cell_type": "code",
      "source": [
        "from sklearn.neural_network import MLPRegressor\n",
        "from sklearn.datasets import make_regression\n",
        "from sklearn.model_selection import train_test_split\n",
        "\n",
        "linear_analysis_axisX = X[['MntWines', 'MntMeatProducts', 'MntSweetProducts', 'MntSweetProducts', 'MntFruits', 'MntGoldProds']]\n",
        "\n",
        "linear_analysis_axisY = X[['Income']]"
      ],
      "metadata": {
        "id": "1YkqjJrch_hY"
      },
      "execution_count": 46,
      "outputs": []
    },
    {
      "cell_type": "code",
      "source": [
        "\n",
        "linear_Xtrain, linear_Xtest, linear_ytrain, linear_ytest = train_test_split(\n",
        "    linear_analysis_axisX, linear_analysis_axisY, test_size=0.25)"
      ],
      "metadata": {
        "id": "Hq_aTjUsLqeU"
      },
      "execution_count": 47,
      "outputs": []
    },
    {
      "cell_type": "code",
      "source": [
        "from sklearn.linear_model import LinearRegression\n",
        "\n",
        "linear_model = LinearRegression().fit(linear_Xtrain, linear_ytrain)"
      ],
      "metadata": {
        "id": "H1lNBAodPK0i"
      },
      "execution_count": 48,
      "outputs": []
    },
    {
      "cell_type": "code",
      "source": [
        "linear_pred = linear_model.predict(linear_Xtest)"
      ],
      "metadata": {
        "id": "12SDYkMJPPMQ"
      },
      "execution_count": 49,
      "outputs": []
    },
    {
      "cell_type": "code",
      "source": [
        "import matplotlib.pyplot as plt\n",
        "from sklearn.metrics import r2_score\n",
        "\n",
        "print('coefficient of determination: ', r2_score(linear_ytest, linear_pred))"
      ],
      "metadata": {
        "id": "8dAnGZ3uPTLi",
        "colab": {
          "base_uri": "https://localhost:8080/"
        },
        "outputId": "716301ae-70f0-40ed-91e0-0a0bc207143f"
      },
      "execution_count": 52,
      "outputs": [
        {
          "output_type": "stream",
          "name": "stdout",
          "text": [
            "coefficient of determination:  0.22767631316812864\n"
          ]
        }
      ]
    },
    {
      "cell_type": "code",
      "source": [
        "plt.scatter(linear_analysis_axisY.iloc[0:554, :], linear_pred, alpha=0.3, color='blue',\n",
        "            edgecolors='black')\n",
        "\n",
        "plt.xlabel('Income', fontsize=12)\n",
        "plt.ylabel('Customers annual income result', fontsize=12)\n",
        "\n",
        "plt.show()"
      ],
      "metadata": {
        "id": "3TKOwn4dPrwD",
        "colab": {
          "base_uri": "https://localhost:8080/",
          "height": 282
        },
        "outputId": "4fe9ef8a-2668-46eb-b157-705fad642a1d"
      },
      "execution_count": 53,
      "outputs": [
        {
          "output_type": "display_data",
          "data": {
            "image/png": "[encoded data removed]",
            "text/plain": [
              "<Figure size 432x288 with 1 Axes>"
            ]
          },
          "metadata": {
            "needs_background": "light"
          }
        }
      ]
    },
    {
      "cell_type": "code",
      "source": [
        "plt.scatter(linear_analysis_axisX.iloc[0:554, [0]], linear_pred, alpha=0.5,\n",
        "            color='red', edgecolors='black', label='pred')\n",
        "\n",
        "# plt.scatter(X['Total spent x qnt. spends on wines'], X['Income'], alpha=0.5, color='blue', edgecolors='black', label='actual values')\n",
        "\n",
        "plt.title('Analyzing the model using wine', fontsize=15)\n",
        "plt.xlabel('Total spent x qnt. spends on wines', fontsize=12)\n",
        "plt.ylabel('Income', fontsize=12)\n",
        "\n",
        "plt.legend()\n",
        "plt.show()"
      ],
      "metadata": {
        "id": "HLJVkjSvQiXo",
        "colab": {
          "base_uri": "https://localhost:8080/",
          "height": 300
        },
        "outputId": "4f6036f0-afb3-4b8e-a4c8-a69c7dc1b21a"
      },
      "execution_count": 54,
      "outputs": [
        {
          "output_type": "display_data",
          "data": {
            "image/png": "[encoded data removed]",
            "text/plain": [
              "<Figure size 432x288 with 1 Axes>"
            ]
          },
          "metadata": {
            "needs_background": "light"
          }
        }
      ]
    },
    {
      "cell_type": "code",
      "source": [
        "plt.figure(figsize=(12, 6))\n",
        "\n",
        "plt.scatter(X['MntMeatProducts'], X['NumCatalogPurchases'],\n",
        "            edgecolors='black', alpha=0.25, label='Meat products from catalog')\n",
        "\n",
        "plt.scatter(X['MntWines'], X['NumCatalogPurchases'],\n",
        "            color='purple', edgecolors='black', alpha=0.25, label='Wines from catalog')\n",
        "\n",
        "plt.scatter(X['MntSweetProducts'], X['NumCatalogPurchases'],\n",
        "            color='yellow', edgecolors='black', alpha=0.25, label='doce x catálogo')\n",
        "\n",
        "plt.scatter(X['MntFishProducts'], X['NumCatalogPurchases'],\n",
        "            color='orange', edgecolors='black', alpha=0.25, label='Fish products from catalog')\n",
        "\n",
        "plt.scatter(X['MntGoldProds'], X['NumCatalogPurchases'],\n",
        "            color='red', edgecolors='black', alpha=0.25, label='NumCatalogPurchases')\n",
        "\n",
        "plt.xlabel('MntGoldProds', fontsize=12)\n",
        "plt.ylabel('NumCatalogPurchases', fontsize=12)\n",
        "\n",
        "plt.legend()\n",
        "plt.show()"
      ],
      "metadata": {
        "id": "o9ewbYtbS9Cx",
        "colab": {
          "base_uri": "https://localhost:8080/",
          "height": 391
        },
        "outputId": "6b818e64-939a-4439-db5b-d20005d358bd"
      },
      "execution_count": 55,
      "outputs": [
        {
          "output_type": "display_data",
          "data": {
            "image/png": "[encoded data removed]",
            "text/plain": [
              "<Figure size 864x432 with 1 Axes>"
            ]
          },
          "metadata": {
            "needs_background": "light"
          }
        }
      ]
    },
    {
      "cell_type": "code",
      "source": [
        "plt.figure(figsize=(12, 6))\n",
        "plt.scatter(X['Total spent'], X['NumCatalogPurchases'],\n",
        "            color='black', edgecolors='black', alpha=0.5)\n",
        "\n",
        "plt.xlabel('Total spent', fontsize=12)\n",
        "plt.ylabel('NumCatalogPurchases', fontsize=12)\n",
        "\n",
        "plt.show()"
      ],
      "metadata": {
        "id": "gbCBRtGuSo3x",
        "colab": {
          "base_uri": "https://localhost:8080/",
          "height": 391
        },
        "outputId": "49c44790-d623-45b4-979a-410c4da79292"
      },
      "execution_count": 56,
      "outputs": [
        {
          "output_type": "display_data",
          "data": {
            "image/png": "[encoded data removed]",
            "text/plain": [
              "<Figure size 864x432 with 1 Axes>"
            ]
          },
          "metadata": {
            "needs_background": "light"
          }
        }
      ]
    },
    {
      "cell_type": "code",
      "source": [
        "plt.figure(figsize=(12, 6))\n",
        "\n",
        "plt.scatter(X['MntMeatProducts'], X['NumWebPurchases'],\n",
        "            edgecolors='black', alpha=0.25, label='carne x site')\n",
        "\n",
        "plt.scatter(X['MntWines'], X['NumWebPurchases'],\n",
        "            color='purple', edgecolors='black', alpha=0.25, label='vinho x site')\n",
        "\n",
        "plt.scatter(X['MntSweetProducts'], X['NumWebPurchases'],\n",
        "            color='yellow', edgecolors='black', alpha=0.25, label='doce x site')\n",
        "\n",
        "plt.scatter(X['MntFishProducts'], X['NumWebPurchases'],\n",
        "            color='orange', edgecolors='black', alpha=0.25, label='peixe x site')\n",
        "\n",
        "plt.scatter(X['MntGoldProds'], X['NumWebPurchases'],\n",
        "            color='red', edgecolors='black', alpha=0.25, label='ouro x site')\n",
        "\n",
        "plt.xlabel('MntGoldProds', fontsize=12)\n",
        "plt.ylabel('NumWebPurchases', fontsize=12)\n",
        "\n",
        "plt.legend()\n",
        "plt.show()"
      ],
      "metadata": {
        "id": "R9dagaNgXUin",
        "colab": {
          "base_uri": "https://localhost:8080/",
          "height": 391
        },
        "outputId": "b8ce7893-5737-4b31-9c58-ea57e42691d0"
      },
      "execution_count": 57,
      "outputs": [
        {
          "output_type": "display_data",
          "data": {
            "image/png": "[encoded data removed]",
            "text/plain": [
              "<Figure size 864x432 with 1 Axes>"
            ]
          },
          "metadata": {
            "needs_background": "light"
          }
        }
      ]
    },
    {
      "cell_type": "code",
      "source": [
        "plt.figure(figsize=(12, 6))\n",
        "plt.scatter(X['Total spent'], X['NumWebPurchases'],\n",
        "            color='black', edgecolors='black', alpha=0.5)\n",
        "\n",
        "plt.xlabel('Total spent', fontsize=12)\n",
        "plt.ylabel('NumWebPurchases', fontsize=12)\n",
        "\n",
        "plt.show()"
      ],
      "metadata": {
        "id": "UMygCLKxY_pP",
        "colab": {
          "base_uri": "https://localhost:8080/",
          "height": 391
        },
        "outputId": "cbe922a0-63a4-44d3-b160-150ce372ef17"
      },
      "execution_count": 58,
      "outputs": [
        {
          "output_type": "display_data",
          "data": {
            "image/png": "[encoded data removed]",
            "text/plain": [
              "<Figure size 864x432 with 1 Axes>"
            ]
          },
          "metadata": {
            "needs_background": "light"
          }
        }
      ]
    },
    {
      "cell_type": "code",
      "source": [
        "plt.figure(figsize=(12, 6))\n",
        "\n",
        "plt.scatter(X['Total spent'], X['Total accept cmp'], alpha=0.5,\n",
        "            edgecolors='black',  label='Total spent x Total accept cmp')\n",
        "\n",
        "plt.scatter(X['Total spent'], X['Total purchases'], alpha=0.5, color='green',\n",
        "            edgecolors='black',  label='Total spent x Total purchases')\n",
        "\n",
        "plt.legend()\n",
        "plt.show()"
      ],
      "metadata": {
        "id": "MfAVYjHbZUJo",
        "colab": {
          "base_uri": "https://localhost:8080/",
          "height": 373
        },
        "outputId": "0d588753-33ed-4ca4-c22a-447ad5035370"
      },
      "execution_count": 59,
      "outputs": [
        {
          "output_type": "display_data",
          "data": {
            "image/png": "[encoded data removed]",
            "text/plain": [
              "<Figure size 864x432 with 1 Axes>"
            ]
          },
          "metadata": {
            "needs_background": "light"
          }
        }
      ]
    },
    {
      "cell_type": "code",
      "source": [
        "deep_learning_X = X[['Complain', 'Total spent', 'Total accept cmp',\n",
        "                     'Total purchases']]\n",
        "\n",
        "deep_learning_y = X[['Response']]"
      ],
      "metadata": {
        "id": "g1SDff2BhVYI"
      },
      "execution_count": 60,
      "outputs": []
    },
    {
      "cell_type": "code",
      "source": [
        "from sklearn.model_selection import train_test_split\n",
        "\n",
        "deep_learning_Xtrain, deep_learning_Xtest, deep_learning_ytrain, deep_learning_ytest = train_test_split(\n",
        "    deep_learning_X, deep_learning_y, test_size=0.25, shuffle=True\n",
        ")"
      ],
      "metadata": {
        "id": "TibdBSd1h-gw"
      },
      "execution_count": 61,
      "outputs": []
    },
    {
      "cell_type": "code",
      "source": [
        "import tensorflow as tf\n",
        "\n",
        "ann = tf.keras.models.Sequential()"
      ],
      "metadata": {
        "id": "uLZE6s-3aM7K"
      },
      "execution_count": 62,
      "outputs": []
    },
    {
      "cell_type": "code",
      "source": [
        "ann.add(tf.keras.layers.Dense(units=6, activation='relu'))"
      ],
      "metadata": {
        "id": "Dxjjg2dPaVMt"
      },
      "execution_count": 63,
      "outputs": []
    },
    {
      "cell_type": "code",
      "source": [
        "ann.add(tf.keras.layers.Dense(units=6, activation='relu'))"
      ],
      "metadata": {
        "id": "xbdiuOBPaYkc"
      },
      "execution_count": 64,
      "outputs": []
    },
    {
      "cell_type": "code",
      "source": [
        "ann.add(tf.keras.layers.Dense(units=1, activation='sigmoid'))"
      ],
      "metadata": {
        "id": "8rnrpjO8acgr"
      },
      "execution_count": 65,
      "outputs": []
    },
    {
      "cell_type": "code",
      "source": [
        "ann.compile(optimizer='adam', loss='binary_crossentropy', metrics=['accuracy'])"
      ],
      "metadata": {
        "id": "uRO-68Xuafx7"
      },
      "execution_count": 66,
      "outputs": []
    },
    {
      "cell_type": "code",
      "source": [
        "ann.fit(deep_learning_Xtrain, deep_learning_ytrain, batch_size=12, epochs=100)"
      ],
      "metadata": {
        "id": "U11QnONZajFj",
        "colab": {
          "base_uri": "https://localhost:8080/"
        },
        "outputId": "9a3ccd8f-a5dd-4fdd-9391-8ffabc1a9678"
      },
      "execution_count": 67,
      "outputs": [
        {
          "output_type": "stream",
          "name": "stdout",
          "text": [
            "Epoch 1/100\n",
            "139/139 [==============================] - 1s 2ms/step - loss: 2.9539 - accuracy: 0.5933\n",
            "Epoch 2/100\n",
            "139/139 [==============================] - 0s 2ms/step - loss: 0.7120 - accuracy: 0.7629\n",
            "Epoch 3/100\n",
            "139/139 [==============================] - 0s 2ms/step - loss: 0.5848 - accuracy: 0.8333\n",
            "Epoch 4/100\n",
            "139/139 [==============================] - 0s 2ms/step - loss: 0.5554 - accuracy: 0.8273\n",
            "Epoch 5/100\n",
            "139/139 [==============================] - 0s 2ms/step - loss: 0.5405 - accuracy: 0.8315\n",
            "Epoch 6/100\n",
            "139/139 [==============================] - 0s 2ms/step - loss: 0.5709 - accuracy: 0.8213\n",
            "Epoch 7/100\n",
            "139/139 [==============================] - 0s 2ms/step - loss: 0.5412 - accuracy: 0.8279\n",
            "Epoch 8/100\n",
            "139/139 [==============================] - 0s 2ms/step - loss: 0.5839 - accuracy: 0.8165\n",
            "Epoch 9/100\n",
            "139/139 [==============================] - 0s 2ms/step - loss: 0.4936 - accuracy: 0.8357\n",
            "Epoch 10/100\n",
            "139/139 [==============================] - 0s 2ms/step - loss: 0.4586 - accuracy: 0.8394\n",
            "Epoch 11/100\n",
            "139/139 [==============================] - 0s 2ms/step - loss: 0.4784 - accuracy: 0.8291\n",
            "Epoch 12/100\n",
            "139/139 [==============================] - 0s 2ms/step - loss: 0.4780 - accuracy: 0.8351\n",
            "Epoch 13/100\n",
            "139/139 [==============================] - 0s 2ms/step - loss: 0.4718 - accuracy: 0.8363\n",
            "Epoch 14/100\n",
            "139/139 [==============================] - 0s 2ms/step - loss: 0.4463 - accuracy: 0.8460\n",
            "Epoch 15/100\n",
            "139/139 [==============================] - 0s 2ms/step - loss: 0.4094 - accuracy: 0.8502\n",
            "Epoch 16/100\n",
            "139/139 [==============================] - 0s 3ms/step - loss: 0.4462 - accuracy: 0.8436\n",
            "Epoch 17/100\n",
            "139/139 [==============================] - 0s 2ms/step - loss: 0.4628 - accuracy: 0.8345\n",
            "Epoch 18/100\n",
            "139/139 [==============================] - 0s 2ms/step - loss: 0.5557 - accuracy: 0.8315\n",
            "Epoch 19/100\n",
            "139/139 [==============================] - 0s 2ms/step - loss: 0.4717 - accuracy: 0.8387\n",
            "Epoch 20/100\n",
            "139/139 [==============================] - 0s 2ms/step - loss: 0.5936 - accuracy: 0.8117\n",
            "Epoch 21/100\n",
            "139/139 [==============================] - 0s 2ms/step - loss: 0.5761 - accuracy: 0.8357\n",
            "Epoch 22/100\n",
            "139/139 [==============================] - 0s 2ms/step - loss: 0.4600 - accuracy: 0.8400\n",
            "Epoch 23/100\n",
            "139/139 [==============================] - 0s 2ms/step - loss: 0.5180 - accuracy: 0.8303\n",
            "Epoch 24/100\n",
            "139/139 [==============================] - 0s 2ms/step - loss: 0.5482 - accuracy: 0.8231\n",
            "Epoch 25/100\n",
            "139/139 [==============================] - 0s 2ms/step - loss: 0.4885 - accuracy: 0.8418\n",
            "Epoch 26/100\n",
            "139/139 [==============================] - 0s 2ms/step - loss: 0.5274 - accuracy: 0.8412\n",
            "Epoch 27/100\n",
            "139/139 [==============================] - 0s 2ms/step - loss: 0.4645 - accuracy: 0.8400\n",
            "Epoch 28/100\n",
            "139/139 [==============================] - 0s 2ms/step - loss: 0.5157 - accuracy: 0.8279\n",
            "Epoch 29/100\n",
            "139/139 [==============================] - 0s 2ms/step - loss: 0.4493 - accuracy: 0.8430\n",
            "Epoch 30/100\n",
            "139/139 [==============================] - 0s 2ms/step - loss: 0.5600 - accuracy: 0.8201\n",
            "Epoch 31/100\n",
            "139/139 [==============================] - 0s 2ms/step - loss: 0.4960 - accuracy: 0.8375\n",
            "Epoch 32/100\n",
            "139/139 [==============================] - 0s 2ms/step - loss: 0.5029 - accuracy: 0.8309\n",
            "Epoch 33/100\n",
            "139/139 [==============================] - 0s 2ms/step - loss: 0.4327 - accuracy: 0.8442\n",
            "Epoch 34/100\n",
            "139/139 [==============================] - 0s 2ms/step - loss: 0.5150 - accuracy: 0.8387\n",
            "Epoch 35/100\n",
            "139/139 [==============================] - 0s 2ms/step - loss: 0.5747 - accuracy: 0.8255\n",
            "Epoch 36/100\n",
            "139/139 [==============================] - 0s 2ms/step - loss: 0.4340 - accuracy: 0.8472\n",
            "Epoch 37/100\n",
            "139/139 [==============================] - 0s 2ms/step - loss: 0.4978 - accuracy: 0.8333\n",
            "Epoch 38/100\n",
            "139/139 [==============================] - 0s 2ms/step - loss: 0.4110 - accuracy: 0.8484\n",
            "Epoch 39/100\n",
            "139/139 [==============================] - 0s 2ms/step - loss: 0.5014 - accuracy: 0.8454\n",
            "Epoch 40/100\n",
            "139/139 [==============================] - 0s 2ms/step - loss: 0.4786 - accuracy: 0.8381\n",
            "Epoch 41/100\n",
            "139/139 [==============================] - 0s 2ms/step - loss: 0.5286 - accuracy: 0.8375\n",
            "Epoch 42/100\n",
            "139/139 [==============================] - 0s 2ms/step - loss: 0.4349 - accuracy: 0.8550\n",
            "Epoch 43/100\n",
            "139/139 [==============================] - 0s 2ms/step - loss: 0.5373 - accuracy: 0.8327\n",
            "Epoch 44/100\n",
            "139/139 [==============================] - 0s 2ms/step - loss: 0.4856 - accuracy: 0.8315\n",
            "Epoch 45/100\n",
            "139/139 [==============================] - 0s 2ms/step - loss: 0.5018 - accuracy: 0.8412\n",
            "Epoch 46/100\n",
            "139/139 [==============================] - 0s 2ms/step - loss: 0.4023 - accuracy: 0.8556\n",
            "Epoch 47/100\n",
            "139/139 [==============================] - 0s 2ms/step - loss: 0.4398 - accuracy: 0.8478\n",
            "Epoch 48/100\n",
            "139/139 [==============================] - 0s 2ms/step - loss: 0.4543 - accuracy: 0.8454\n",
            "Epoch 49/100\n",
            "139/139 [==============================] - 0s 2ms/step - loss: 0.4574 - accuracy: 0.8454\n",
            "Epoch 50/100\n",
            "139/139 [==============================] - 0s 2ms/step - loss: 0.4399 - accuracy: 0.8418\n",
            "Epoch 51/100\n",
            "139/139 [==============================] - 0s 2ms/step - loss: 0.4852 - accuracy: 0.8454\n",
            "Epoch 52/100\n",
            "139/139 [==============================] - 0s 2ms/step - loss: 0.4877 - accuracy: 0.8357\n",
            "Epoch 53/100\n",
            "139/139 [==============================] - 0s 2ms/step - loss: 0.5745 - accuracy: 0.8267\n",
            "Epoch 54/100\n",
            "139/139 [==============================] - 0s 2ms/step - loss: 0.4398 - accuracy: 0.8430\n",
            "Epoch 55/100\n",
            "139/139 [==============================] - 0s 2ms/step - loss: 0.4547 - accuracy: 0.8363\n",
            "Epoch 56/100\n",
            "139/139 [==============================] - 0s 2ms/step - loss: 0.4292 - accuracy: 0.8424\n",
            "Epoch 57/100\n",
            "139/139 [==============================] - 0s 2ms/step - loss: 0.4212 - accuracy: 0.8460\n",
            "Epoch 58/100\n",
            "139/139 [==============================] - 0s 2ms/step - loss: 0.4157 - accuracy: 0.8460\n",
            "Epoch 59/100\n",
            "139/139 [==============================] - 0s 2ms/step - loss: 0.4388 - accuracy: 0.8394\n",
            "Epoch 60/100\n",
            "139/139 [==============================] - 0s 2ms/step - loss: 0.4592 - accuracy: 0.8357\n",
            "Epoch 61/100\n",
            "139/139 [==============================] - 0s 2ms/step - loss: 0.4836 - accuracy: 0.8454\n",
            "Epoch 62/100\n",
            "139/139 [==============================] - 0s 2ms/step - loss: 0.4366 - accuracy: 0.8496\n",
            "Epoch 63/100\n",
            "139/139 [==============================] - 0s 2ms/step - loss: 0.4718 - accuracy: 0.8400\n",
            "Epoch 64/100\n",
            "139/139 [==============================] - 0s 2ms/step - loss: 0.4871 - accuracy: 0.8424\n",
            "Epoch 65/100\n",
            "139/139 [==============================] - 0s 2ms/step - loss: 0.5147 - accuracy: 0.8394\n",
            "Epoch 66/100\n",
            "139/139 [==============================] - 0s 2ms/step - loss: 0.4455 - accuracy: 0.8424\n",
            "Epoch 67/100\n",
            "139/139 [==============================] - 0s 2ms/step - loss: 0.4387 - accuracy: 0.8490\n",
            "Epoch 68/100\n",
            "139/139 [==============================] - 0s 2ms/step - loss: 0.4360 - accuracy: 0.8406\n",
            "Epoch 69/100\n",
            "139/139 [==============================] - 0s 2ms/step - loss: 0.3853 - accuracy: 0.8568\n",
            "Epoch 70/100\n",
            "139/139 [==============================] - 0s 2ms/step - loss: 0.4743 - accuracy: 0.8406\n",
            "Epoch 71/100\n",
            "139/139 [==============================] - 0s 2ms/step - loss: 0.4323 - accuracy: 0.8424\n",
            "Epoch 72/100\n",
            "139/139 [==============================] - 0s 2ms/step - loss: 0.4640 - accuracy: 0.8454\n",
            "Epoch 73/100\n",
            "139/139 [==============================] - 0s 2ms/step - loss: 0.4984 - accuracy: 0.8351\n",
            "Epoch 74/100\n",
            "139/139 [==============================] - 0s 2ms/step - loss: 0.5032 - accuracy: 0.8406\n",
            "Epoch 75/100\n",
            "139/139 [==============================] - 0s 2ms/step - loss: 0.4397 - accuracy: 0.8466\n",
            "Epoch 76/100\n",
            "139/139 [==============================] - 0s 2ms/step - loss: 0.5322 - accuracy: 0.8357\n",
            "Epoch 77/100\n",
            "139/139 [==============================] - 0s 2ms/step - loss: 0.4371 - accuracy: 0.8484\n",
            "Epoch 78/100\n",
            "139/139 [==============================] - 0s 2ms/step - loss: 0.4068 - accuracy: 0.8520\n",
            "Epoch 79/100\n",
            "139/139 [==============================] - 0s 2ms/step - loss: 0.4200 - accuracy: 0.8502\n",
            "Epoch 80/100\n",
            "139/139 [==============================] - 0s 2ms/step - loss: 0.4917 - accuracy: 0.8430\n",
            "Epoch 81/100\n",
            "139/139 [==============================] - 0s 2ms/step - loss: 0.4760 - accuracy: 0.8400\n",
            "Epoch 82/100\n",
            "139/139 [==============================] - 0s 2ms/step - loss: 0.4936 - accuracy: 0.8466\n",
            "Epoch 83/100\n",
            "139/139 [==============================] - 0s 2ms/step - loss: 0.5008 - accuracy: 0.8448\n",
            "Epoch 84/100\n",
            "139/139 [==============================] - 0s 2ms/step - loss: 0.4595 - accuracy: 0.8424\n",
            "Epoch 85/100\n",
            "139/139 [==============================] - 0s 2ms/step - loss: 0.4847 - accuracy: 0.8406\n",
            "Epoch 86/100\n",
            "139/139 [==============================] - 0s 2ms/step - loss: 0.4279 - accuracy: 0.8520\n",
            "Epoch 87/100\n",
            "139/139 [==============================] - 0s 2ms/step - loss: 0.4016 - accuracy: 0.8592\n",
            "Epoch 88/100\n",
            "139/139 [==============================] - 0s 2ms/step - loss: 0.5052 - accuracy: 0.8406\n",
            "Epoch 89/100\n",
            "139/139 [==============================] - 0s 2ms/step - loss: 0.5245 - accuracy: 0.8375\n",
            "Epoch 90/100\n",
            "139/139 [==============================] - 0s 2ms/step - loss: 0.4804 - accuracy: 0.8442\n",
            "Epoch 91/100\n",
            "139/139 [==============================] - 0s 2ms/step - loss: 0.4567 - accuracy: 0.8478\n",
            "Epoch 92/100\n",
            "139/139 [==============================] - 0s 2ms/step - loss: 0.4345 - accuracy: 0.8442\n",
            "Epoch 93/100\n",
            "139/139 [==============================] - 0s 2ms/step - loss: 0.4119 - accuracy: 0.8526\n",
            "Epoch 94/100\n",
            "139/139 [==============================] - 0s 2ms/step - loss: 0.3929 - accuracy: 0.8580\n",
            "Epoch 95/100\n",
            "139/139 [==============================] - 0s 2ms/step - loss: 0.5277 - accuracy: 0.8381\n",
            "Epoch 96/100\n",
            "139/139 [==============================] - 0s 2ms/step - loss: 0.4580 - accuracy: 0.8448\n",
            "Epoch 97/100\n",
            "139/139 [==============================] - 0s 2ms/step - loss: 0.4423 - accuracy: 0.8514\n",
            "Epoch 98/100\n",
            "139/139 [==============================] - 0s 2ms/step - loss: 0.4502 - accuracy: 0.8484\n",
            "Epoch 99/100\n",
            "139/139 [==============================] - 0s 2ms/step - loss: 0.4781 - accuracy: 0.8375\n",
            "Epoch 100/100\n",
            "139/139 [==============================] - 0s 2ms/step - loss: 0.4747 - accuracy: 0.8430\n"
          ]
        },
        {
          "output_type": "execute_result",
          "data": {
            "text/plain": [
              "<keras.callbacks.History at 0x7f3b0d3fb5d0>"
            ]
          },
          "metadata": {},
          "execution_count": 67
        }
      ]
    },
    {
      "cell_type": "code",
      "source": [
        "import numpy as np\n",
        "\n",
        "pred = ann.predict(deep_learning_Xtest)\n",
        "pred = (pred > 0.5)"
      ],
      "metadata": {
        "id": "R812GK3watuA"
      },
      "execution_count": 68,
      "outputs": []
    },
    {
      "cell_type": "code",
      "source": [
        "y_test = deep_learning_ytest.iloc[:, :].values\n",
        "\n",
        "print(np.concatenate((pred.reshape(len(pred), 1), \n",
        "                      y_test.reshape(len(y_test), 1)), 1))"
      ],
      "metadata": {
        "id": "gnl-Id51esDD",
        "colab": {
          "base_uri": "https://localhost:8080/"
        },
        "outputId": "8c211019-5bb2-41dc-9503-dda35b2e12dd"
      },
      "execution_count": 69,
      "outputs": [
        {
          "output_type": "stream",
          "name": "stdout",
          "text": [
            "[[0 0]\n",
            " [0 1]\n",
            " [0 0]\n",
            " ...\n",
            " [0 0]\n",
            " [0 0]\n",
            " [0 0]]\n"
          ]
        }
      ]
    },
    {
      "cell_type": "code",
      "source": [
        "from sklearn.metrics import confusion_matrix, accuracy_score\n",
        "\n",
        "cm = confusion_matrix(y_test, pred)\n",
        "\n",
        "print(cm)\n",
        "print('accuracy score for confusion matrix: ', accuracy_score(y_test, pred))"
      ],
      "metadata": {
        "id": "fKtOQO4BewKj",
        "colab": {
          "base_uri": "https://localhost:8080/"
        },
        "outputId": "18634ed1-6d11-4c3a-f338-c68a9113bf2b"
      },
      "execution_count": 70,
      "outputs": [
        {
          "output_type": "stream",
          "name": "stdout",
          "text": [
            "[[458  12]\n",
            " [ 59  25]]\n",
            "accuracy score for confusion matrix:  0.871841155234657\n"
          ]
        }
      ]
    },
    {
      "cell_type": "code",
      "source": [
        "display_elements = marketing_campaign_dataframe[['Income', 'Education']]\n",
        "display_elements.columns = ['Income', 'Education']\n",
        "\n",
        "import seaborn as sns\n",
        "\n",
        "plt.figure(figsize=(12, 6))\n",
        "\n",
        "sns.set()\n",
        "sns.barplot(x=display_elements['Income'],\n",
        "            y=display_elements['Education'],\n",
        "            palette='pastel', order=['Basic', '2n Cycle', 'Graduation', 'Master',\n",
        "                                     'PhD'])\n",
        "\n",
        "plt.show()"
      ],
      "metadata": {
        "id": "efZ7RgOne2l8"
      },
      "execution_count": null,
      "outputs": []
    },
    {
      "cell_type": "code",
      "source": [
        "deep_learning_X_wDegree = X[['Complain', 'Total spent', 'Total accept cmp',\n",
        "                     'Total purchases', 'Doctor', 'High School', 'Higher Education', \n",
        "                     'Master', 'PhD']]\n",
        "\n",
        "deep_learning_y_wDegree = X[['Response']]"
      ],
      "metadata": {
        "id": "lfruqYFEfqix"
      },
      "execution_count": 71,
      "outputs": []
    },
    {
      "cell_type": "code",
      "source": [
        "from sklearn.model_selection import train_test_split\n",
        "\n",
        "deep_learning_Xtrain, deep_learning_Xtest, deep_learning_ytrain, deep_learning_ytest = train_test_split(\n",
        "    deep_learning_X_wDegree, deep_learning_y_wDegree, test_size=0.25, shuffle=True\n",
        ")"
      ],
      "metadata": {
        "id": "sFsXja4niIV-"
      },
      "execution_count": 72,
      "outputs": []
    },
    {
      "cell_type": "code",
      "source": [
        "from sklearn.preprocessing import StandardScaler\n",
        "\n",
        "sc = StandardScaler()\n",
        "\n",
        "deep_learning_Xtrain = sc.fit_transform(deep_learning_Xtrain)\n",
        "deep_learning_Xtest = sc.transform(deep_learning_Xtest)"
      ],
      "metadata": {
        "id": "ou4sM-M9iJEF"
      },
      "execution_count": 73,
      "outputs": []
    },
    {
      "cell_type": "code",
      "source": [
        "ann = tf.keras.models.Sequential()"
      ],
      "metadata": {
        "id": "blAKZzNdiPEW"
      },
      "execution_count": 74,
      "outputs": []
    },
    {
      "cell_type": "code",
      "source": [
        "ann.add(tf.keras.layers.Dense(units=6, activation='relu'))"
      ],
      "metadata": {
        "id": "zrN13Q6tiS0F"
      },
      "execution_count": 75,
      "outputs": []
    },
    {
      "cell_type": "code",
      "source": [
        "ann.add(tf.keras.layers.Dense(units=6, activation='relu'))"
      ],
      "metadata": {
        "id": "FvvJjm4OiVmG"
      },
      "execution_count": 76,
      "outputs": []
    },
    {
      "cell_type": "code",
      "source": [
        "ann.add(tf.keras.layers.Dense(units=1, activation='sigmoid'))"
      ],
      "metadata": {
        "id": "Uk02JmzeiWV0"
      },
      "execution_count": 77,
      "outputs": []
    },
    {
      "cell_type": "code",
      "source": [
        "ann.compile(optimizer='adam', loss='binary_crossentropy', metrics=['accuracy'])"
      ],
      "metadata": {
        "id": "C5Lk-toEiY1k"
      },
      "execution_count": 78,
      "outputs": []
    },
    {
      "cell_type": "code",
      "source": [
        "ann.fit(deep_learning_Xtrain, deep_learning_ytrain, batch_size=12, epochs=100)"
      ],
      "metadata": {
        "id": "RrTGnk55ieR0",
        "colab": {
          "base_uri": "https://localhost:8080/"
        },
        "outputId": "c6849025-06be-4efb-a649-3f6b78cd4409"
      },
      "execution_count": 79,
      "outputs": [
        {
          "output_type": "stream",
          "name": "stdout",
          "text": [
            "Epoch 1/100\n",
            "139/139 [==============================] - 1s 2ms/step - loss: 0.5177 - accuracy: 0.8381\n",
            "Epoch 2/100\n",
            "139/139 [==============================] - 0s 2ms/step - loss: 0.4058 - accuracy: 0.8508\n",
            "Epoch 3/100\n",
            "139/139 [==============================] - 0s 2ms/step - loss: 0.3824 - accuracy: 0.8508\n",
            "Epoch 4/100\n",
            "139/139 [==============================] - 0s 2ms/step - loss: 0.3700 - accuracy: 0.8550\n",
            "Epoch 5/100\n",
            "139/139 [==============================] - 0s 2ms/step - loss: 0.3614 - accuracy: 0.8604\n",
            "Epoch 6/100\n",
            "139/139 [==============================] - 0s 2ms/step - loss: 0.3563 - accuracy: 0.8586\n",
            "Epoch 7/100\n",
            "139/139 [==============================] - 0s 2ms/step - loss: 0.3529 - accuracy: 0.8610\n",
            "Epoch 8/100\n",
            "139/139 [==============================] - 0s 2ms/step - loss: 0.3512 - accuracy: 0.8610\n",
            "Epoch 9/100\n",
            "139/139 [==============================] - 0s 2ms/step - loss: 0.3495 - accuracy: 0.8604\n",
            "Epoch 10/100\n",
            "139/139 [==============================] - 0s 2ms/step - loss: 0.3490 - accuracy: 0.8634\n",
            "Epoch 11/100\n",
            "139/139 [==============================] - 0s 2ms/step - loss: 0.3481 - accuracy: 0.8616\n",
            "Epoch 12/100\n",
            "139/139 [==============================] - 0s 2ms/step - loss: 0.3470 - accuracy: 0.8616\n",
            "Epoch 13/100\n",
            "139/139 [==============================] - 0s 2ms/step - loss: 0.3465 - accuracy: 0.8604\n",
            "Epoch 14/100\n",
            "139/139 [==============================] - 0s 2ms/step - loss: 0.3464 - accuracy: 0.8616\n",
            "Epoch 15/100\n",
            "139/139 [==============================] - 0s 2ms/step - loss: 0.3455 - accuracy: 0.8628\n",
            "Epoch 16/100\n",
            "139/139 [==============================] - 0s 2ms/step - loss: 0.3447 - accuracy: 0.8610\n",
            "Epoch 17/100\n",
            "139/139 [==============================] - 0s 2ms/step - loss: 0.3448 - accuracy: 0.8610\n",
            "Epoch 18/100\n",
            "139/139 [==============================] - 0s 2ms/step - loss: 0.3443 - accuracy: 0.8628\n",
            "Epoch 19/100\n",
            "139/139 [==============================] - 0s 2ms/step - loss: 0.3439 - accuracy: 0.8616\n",
            "Epoch 20/100\n",
            "139/139 [==============================] - 0s 2ms/step - loss: 0.3438 - accuracy: 0.8616\n",
            "Epoch 21/100\n",
            "139/139 [==============================] - 0s 2ms/step - loss: 0.3433 - accuracy: 0.8628\n",
            "Epoch 22/100\n",
            "139/139 [==============================] - 0s 2ms/step - loss: 0.3431 - accuracy: 0.8616\n",
            "Epoch 23/100\n",
            "139/139 [==============================] - 0s 2ms/step - loss: 0.3428 - accuracy: 0.8604\n",
            "Epoch 24/100\n",
            "139/139 [==============================] - 0s 2ms/step - loss: 0.3428 - accuracy: 0.8616\n",
            "Epoch 25/100\n",
            "139/139 [==============================] - 0s 2ms/step - loss: 0.3425 - accuracy: 0.8604\n",
            "Epoch 26/100\n",
            "139/139 [==============================] - 0s 2ms/step - loss: 0.3423 - accuracy: 0.8628\n",
            "Epoch 27/100\n",
            "139/139 [==============================] - 0s 2ms/step - loss: 0.3423 - accuracy: 0.8634\n",
            "Epoch 28/100\n",
            "139/139 [==============================] - 0s 2ms/step - loss: 0.3422 - accuracy: 0.8640\n",
            "Epoch 29/100\n",
            "139/139 [==============================] - 0s 2ms/step - loss: 0.3420 - accuracy: 0.8646\n",
            "Epoch 30/100\n",
            "139/139 [==============================] - 0s 2ms/step - loss: 0.3423 - accuracy: 0.8658\n",
            "Epoch 31/100\n",
            "139/139 [==============================] - 0s 2ms/step - loss: 0.3419 - accuracy: 0.8634\n",
            "Epoch 32/100\n",
            "139/139 [==============================] - 0s 2ms/step - loss: 0.3420 - accuracy: 0.8628\n",
            "Epoch 33/100\n",
            "139/139 [==============================] - 0s 2ms/step - loss: 0.3418 - accuracy: 0.8616\n",
            "Epoch 34/100\n",
            "139/139 [==============================] - 0s 2ms/step - loss: 0.3416 - accuracy: 0.8634\n",
            "Epoch 35/100\n",
            "139/139 [==============================] - 0s 2ms/step - loss: 0.3412 - accuracy: 0.8616\n",
            "Epoch 36/100\n",
            "139/139 [==============================] - 0s 2ms/step - loss: 0.3412 - accuracy: 0.8664\n",
            "Epoch 37/100\n",
            "139/139 [==============================] - 0s 2ms/step - loss: 0.3413 - accuracy: 0.8628\n",
            "Epoch 38/100\n",
            "139/139 [==============================] - 0s 2ms/step - loss: 0.3413 - accuracy: 0.8610\n",
            "Epoch 39/100\n",
            "139/139 [==============================] - 0s 2ms/step - loss: 0.3409 - accuracy: 0.8658\n",
            "Epoch 40/100\n",
            "139/139 [==============================] - 0s 2ms/step - loss: 0.3410 - accuracy: 0.8604\n",
            "Epoch 41/100\n",
            "139/139 [==============================] - 0s 2ms/step - loss: 0.3408 - accuracy: 0.8628\n",
            "Epoch 42/100\n",
            "139/139 [==============================] - 0s 2ms/step - loss: 0.3400 - accuracy: 0.8658\n",
            "Epoch 43/100\n",
            "139/139 [==============================] - 0s 2ms/step - loss: 0.3402 - accuracy: 0.8634\n",
            "Epoch 44/100\n",
            "139/139 [==============================] - 0s 2ms/step - loss: 0.3406 - accuracy: 0.8652\n",
            "Epoch 45/100\n",
            "139/139 [==============================] - 0s 2ms/step - loss: 0.3402 - accuracy: 0.8664\n",
            "Epoch 46/100\n",
            "139/139 [==============================] - 0s 2ms/step - loss: 0.3402 - accuracy: 0.8610\n",
            "Epoch 47/100\n",
            "139/139 [==============================] - 0s 2ms/step - loss: 0.3404 - accuracy: 0.8616\n",
            "Epoch 48/100\n",
            "139/139 [==============================] - 0s 2ms/step - loss: 0.3401 - accuracy: 0.8646\n",
            "Epoch 49/100\n",
            "139/139 [==============================] - 0s 2ms/step - loss: 0.3396 - accuracy: 0.8658\n",
            "Epoch 50/100\n",
            "139/139 [==============================] - 0s 2ms/step - loss: 0.3398 - accuracy: 0.8664\n",
            "Epoch 51/100\n",
            "139/139 [==============================] - 0s 2ms/step - loss: 0.3398 - accuracy: 0.8634\n",
            "Epoch 52/100\n",
            "139/139 [==============================] - 0s 2ms/step - loss: 0.3394 - accuracy: 0.8670\n",
            "Epoch 53/100\n",
            "139/139 [==============================] - 0s 2ms/step - loss: 0.3396 - accuracy: 0.8658\n",
            "Epoch 54/100\n",
            "139/139 [==============================] - 0s 2ms/step - loss: 0.3394 - accuracy: 0.8652\n",
            "Epoch 55/100\n",
            "139/139 [==============================] - 0s 2ms/step - loss: 0.3393 - accuracy: 0.8646\n",
            "Epoch 56/100\n",
            "139/139 [==============================] - 0s 2ms/step - loss: 0.3392 - accuracy: 0.8670\n",
            "Epoch 57/100\n",
            "139/139 [==============================] - 0s 2ms/step - loss: 0.3390 - accuracy: 0.8682\n",
            "Epoch 58/100\n",
            "139/139 [==============================] - 0s 2ms/step - loss: 0.3389 - accuracy: 0.8634\n",
            "Epoch 59/100\n",
            "139/139 [==============================] - 0s 2ms/step - loss: 0.3393 - accuracy: 0.8676\n",
            "Epoch 60/100\n",
            "139/139 [==============================] - 0s 2ms/step - loss: 0.3391 - accuracy: 0.8658\n",
            "Epoch 61/100\n",
            "139/139 [==============================] - 0s 2ms/step - loss: 0.3387 - accuracy: 0.8670\n",
            "Epoch 62/100\n",
            "139/139 [==============================] - 0s 2ms/step - loss: 0.3387 - accuracy: 0.8640\n",
            "Epoch 63/100\n",
            "139/139 [==============================] - 0s 2ms/step - loss: 0.3390 - accuracy: 0.8646\n",
            "Epoch 64/100\n",
            "139/139 [==============================] - 0s 2ms/step - loss: 0.3386 - accuracy: 0.8664\n",
            "Epoch 65/100\n",
            "139/139 [==============================] - 0s 2ms/step - loss: 0.3392 - accuracy: 0.8658\n",
            "Epoch 66/100\n",
            "139/139 [==============================] - 0s 2ms/step - loss: 0.3388 - accuracy: 0.8676\n",
            "Epoch 67/100\n",
            "139/139 [==============================] - 0s 2ms/step - loss: 0.3384 - accuracy: 0.8670\n",
            "Epoch 68/100\n",
            "139/139 [==============================] - 0s 2ms/step - loss: 0.3389 - accuracy: 0.8652\n",
            "Epoch 69/100\n",
            "139/139 [==============================] - 0s 2ms/step - loss: 0.3384 - accuracy: 0.8646\n",
            "Epoch 70/100\n",
            "139/139 [==============================] - 0s 2ms/step - loss: 0.3389 - accuracy: 0.8646\n",
            "Epoch 71/100\n",
            "139/139 [==============================] - 0s 2ms/step - loss: 0.3383 - accuracy: 0.8676\n",
            "Epoch 72/100\n",
            "139/139 [==============================] - 0s 2ms/step - loss: 0.3391 - accuracy: 0.8664\n",
            "Epoch 73/100\n",
            "139/139 [==============================] - 0s 2ms/step - loss: 0.3381 - accuracy: 0.8652\n",
            "Epoch 74/100\n",
            "139/139 [==============================] - 0s 2ms/step - loss: 0.3382 - accuracy: 0.8676\n",
            "Epoch 75/100\n",
            "139/139 [==============================] - 0s 2ms/step - loss: 0.3380 - accuracy: 0.8676\n",
            "Epoch 76/100\n",
            "139/139 [==============================] - 0s 2ms/step - loss: 0.3379 - accuracy: 0.8658\n",
            "Epoch 77/100\n",
            "139/139 [==============================] - 0s 2ms/step - loss: 0.3380 - accuracy: 0.8670\n",
            "Epoch 78/100\n",
            "139/139 [==============================] - 0s 2ms/step - loss: 0.3379 - accuracy: 0.8640\n",
            "Epoch 79/100\n",
            "139/139 [==============================] - 0s 2ms/step - loss: 0.3379 - accuracy: 0.8646\n",
            "Epoch 80/100\n",
            "139/139 [==============================] - 0s 2ms/step - loss: 0.3378 - accuracy: 0.8676\n",
            "Epoch 81/100\n",
            "139/139 [==============================] - 0s 2ms/step - loss: 0.3378 - accuracy: 0.8664\n",
            "Epoch 82/100\n",
            "139/139 [==============================] - 0s 2ms/step - loss: 0.3375 - accuracy: 0.8658\n",
            "Epoch 83/100\n",
            "139/139 [==============================] - 0s 2ms/step - loss: 0.3378 - accuracy: 0.8658\n",
            "Epoch 84/100\n",
            "139/139 [==============================] - 0s 2ms/step - loss: 0.3375 - accuracy: 0.8688\n",
            "Epoch 85/100\n",
            "139/139 [==============================] - 0s 2ms/step - loss: 0.3373 - accuracy: 0.8658\n",
            "Epoch 86/100\n",
            "139/139 [==============================] - 0s 2ms/step - loss: 0.3369 - accuracy: 0.8664\n",
            "Epoch 87/100\n",
            "139/139 [==============================] - 0s 2ms/step - loss: 0.3369 - accuracy: 0.8682\n",
            "Epoch 88/100\n",
            "139/139 [==============================] - 0s 2ms/step - loss: 0.3374 - accuracy: 0.8646\n",
            "Epoch 89/100\n",
            "139/139 [==============================] - 0s 2ms/step - loss: 0.3373 - accuracy: 0.8688\n",
            "Epoch 90/100\n",
            "139/139 [==============================] - 0s 2ms/step - loss: 0.3372 - accuracy: 0.8640\n",
            "Epoch 91/100\n",
            "139/139 [==============================] - 0s 2ms/step - loss: 0.3371 - accuracy: 0.8658\n",
            "Epoch 92/100\n",
            "139/139 [==============================] - 0s 2ms/step - loss: 0.3367 - accuracy: 0.8670\n",
            "Epoch 93/100\n",
            "139/139 [==============================] - 0s 2ms/step - loss: 0.3372 - accuracy: 0.8664\n",
            "Epoch 94/100\n",
            "139/139 [==============================] - 0s 2ms/step - loss: 0.3369 - accuracy: 0.8646\n",
            "Epoch 95/100\n",
            "139/139 [==============================] - 0s 2ms/step - loss: 0.3366 - accuracy: 0.8682\n",
            "Epoch 96/100\n",
            "139/139 [==============================] - 0s 2ms/step - loss: 0.3367 - accuracy: 0.8658\n",
            "Epoch 97/100\n",
            "139/139 [==============================] - 0s 2ms/step - loss: 0.3368 - accuracy: 0.8664\n",
            "Epoch 98/100\n",
            "139/139 [==============================] - 0s 2ms/step - loss: 0.3369 - accuracy: 0.8658\n",
            "Epoch 99/100\n",
            "139/139 [==============================] - 0s 2ms/step - loss: 0.3366 - accuracy: 0.8658\n",
            "Epoch 100/100\n",
            "139/139 [==============================] - 0s 2ms/step - loss: 0.3370 - accuracy: 0.8676\n"
          ]
        },
        {
          "output_type": "execute_result",
          "data": {
            "text/plain": [
              "<keras.callbacks.History at 0x7f3b09c04b50>"
            ]
          },
          "metadata": {},
          "execution_count": 79
        }
      ]
    },
    {
      "cell_type": "code",
      "source": [
        "y_test = deep_learning_ytest.iloc[:, :].values\n",
        "\n",
        "print(np.concatenate((pred.reshape(len(pred), 1), \n",
        "                      y_test.reshape(len(y_test), 1)), 1))"
      ],
      "metadata": {
        "id": "yLtbn1DcjOA4",
        "colab": {
          "base_uri": "https://localhost:8080/"
        },
        "outputId": "b5f6d7ff-8c2f-4ba6-8c92-90685d7e591e"
      },
      "execution_count": 80,
      "outputs": [
        {
          "output_type": "stream",
          "name": "stdout",
          "text": [
            "[[0 1]\n",
            " [0 0]\n",
            " [0 0]\n",
            " ...\n",
            " [0 0]\n",
            " [0 0]\n",
            " [0 0]]\n"
          ]
        }
      ]
    },
    {
      "cell_type": "code",
      "source": [
        "import numpy as np\n",
        "\n",
        "pred = ann.predict(deep_learning_Xtest)\n",
        "pred = (pred > 0.5)"
      ],
      "metadata": {
        "id": "J8aGr88BjXz2"
      },
      "execution_count": 81,
      "outputs": []
    },
    {
      "cell_type": "code",
      "source": [
        "from sklearn.metrics import confusion_matrix, accuracy_score\n",
        "\n",
        "cm = confusion_matrix(y_test, pred)\n",
        "\n",
        "print(cm)\n",
        "print('accuracy score for confusion matrix: ', accuracy_score(y_test, pred))"
      ],
      "metadata": {
        "id": "VHRFK2UjjbR-",
        "colab": {
          "base_uri": "https://localhost:8080/"
        },
        "outputId": "82bc5e76-ff94-405d-b53e-ee7123149175"
      },
      "execution_count": 82,
      "outputs": [
        {
          "output_type": "stream",
          "name": "stdout",
          "text": [
            "[[463   6]\n",
            " [ 67  18]]\n",
            "accuracy score for confusion matrix:  0.868231046931408\n"
          ]
        }
      ]
    },
    {
      "cell_type": "code",
      "source": [
        "import matplotlib.cm as cm\n",
        "from sklearn.metrics import silhouette_score\n",
        "\n",
        "wcss = []\n",
        "\n",
        "for number_of_clusters in range(2, 12):\n",
        "    kmeans = KMeans(n_clusters=number_of_clusters, random_state=0)\n",
        "    kmeans.fit(X)\n",
        "    kmeans_labels = kmeans.fit_predict(X)\n",
        "    wcss.append(kmeans.inertia_)\n",
        "    silhouette = silhouette_score(X, kmeans_labels)\n",
        "    print('For numer_of_clusters = ', number_of_clusters,\n",
        "          'Silhouette score is = ', silhouette)\n",
        "    \n",
        "    colors = cm.nipy_spectral(kmeans_labels / number_of_clusters)"
      ],
      "metadata": {
        "id": "y7NCAccPjgSm",
        "colab": {
          "base_uri": "https://localhost:8080/"
        },
        "outputId": "e04db1d9-96b4-43b3-a926-78d435382782"
      },
      "execution_count": 83,
      "outputs": [
        {
          "output_type": "stream",
          "name": "stdout",
          "text": [
            "For numer_of_clusters =  2 Silhouette score is =  0.5722200128740388\n",
            "For numer_of_clusters =  3 Silhouette score is =  0.5764167108927241\n",
            "For numer_of_clusters =  4 Silhouette score is =  0.4898784911972524\n",
            "For numer_of_clusters =  5 Silhouette score is =  0.45789244066501206\n",
            "For numer_of_clusters =  6 Silhouette score is =  0.4624153282222651\n",
            "For numer_of_clusters =  7 Silhouette score is =  0.43911092729757734\n",
            "For numer_of_clusters =  8 Silhouette score is =  0.40247664099813635\n",
            "For numer_of_clusters =  9 Silhouette score is =  0.37151755909729584\n",
            "For numer_of_clusters =  10 Silhouette score is =  0.3704187172070237\n",
            "For numer_of_clusters =  11 Silhouette score is =  0.350722591528199\n"
          ]
        }
      ]
    },
    {
      "cell_type": "code",
      "source": [
        "plt.plot(range(2, 12), wcss[0:12], alpha=0.5, color='black')\n",
        "plt.scatter(range(2, 12), wcss[0:12], alpha=0.8, color='black', edgecolors='blue')\n",
        "plt.axvline(silhouette, color='black', linestyle='--')\n",
        "plt.title('cluster number', fontsize=15)\n",
        "plt.xlabel('clusters', fontsize=12)\n",
        "plt.ylabel('wcss', fontsize=12)\n",
        "plt.show()"
      ],
      "metadata": {
        "id": "CgdOD4RojorV",
        "colab": {
          "base_uri": "https://localhost:8080/",
          "height": 300
        },
        "outputId": "acd7c8a7-8c23-41e2-ee55-ac76dfa01846"
      },
      "execution_count": 84,
      "outputs": [
        {
          "output_type": "display_data",
          "data": {
            "image/png": "[encoded data removed]",
            "text/plain": [
              "<Figure size 432x288 with 1 Axes>"
            ]
          },
          "metadata": {
            "needs_background": "light"
          }
        }
      ]
    },
    {
      "cell_type": "code",
      "source": [
        "plt.scatter(X['Total spent'], X['Income'], \n",
        "            c=colors, alpha=0.5, edgecolors='black')\n",
        "\n",
        "plt.title('Analysis by clustering - T.Expenditure x Annual Income', fontsize=15)\n",
        "plt.xlabel('Total spent', fontsize=12)\n",
        "plt.ylabel('Income', fontsize=12)\n",
        "\n",
        "plt.show()"
      ],
      "metadata": {
        "id": "3AS4VcktkxUy",
        "colab": {
          "base_uri": "https://localhost:8080/",
          "height": 300
        },
        "outputId": "1776a6fc-b2a2-42dd-a337-7f564b597b34"
      },
      "execution_count": 85,
      "outputs": [
        {
          "output_type": "display_data",
          "data": {
            "image/png": "[encoded data removed]",
            "text/plain": [
              "<Figure size 432x288 with 1 Axes>"
            ]
          },
          "metadata": {
            "needs_background": "light"
          }
        }
      ]
    },
    {
      "cell_type": "code",
      "source": [
        "\"\"\"Using marketing_campaign_dataframe for X and y because I'm getting a weird error with X in this cell\"\"\"\n",
        "\n",
        "X = marketing_campaign_dataframe[['Complain', 'Total spent', 'Total accept cmp',\n",
        "                                  'Total purchases']]\n",
        "\n",
        "y = marketing_campaign_dataframe[['Response']]"
      ],
      "metadata": {
        "id": "f21YxhWMlBSd"
      },
      "execution_count": 87,
      "outputs": []
    },
    {
      "cell_type": "code",
      "source": [
        "for content in X:\n",
        "    X.dropna(subset=[content], inplace=True)"
      ],
      "metadata": {
        "id": "QI6IR9QIlHpf"
      },
      "execution_count": 88,
      "outputs": []
    },
    {
      "cell_type": "code",
      "source": [
        "for content in y:\n",
        "    y.dropna(subset=[content], inplace=True)"
      ],
      "metadata": {
        "id": "0nDrUlOxlKOe"
      },
      "execution_count": 89,
      "outputs": []
    },
    {
      "cell_type": "code",
      "source": [
        "from sklearn.model_selection import train_test_split\n",
        "from sklearn.metrics import accuracy_score\n",
        "\n",
        "X_train, X_test, y_train, y_test = train_test_split(X, y, test_size=0.5, shuffle=True,\n",
        "                                                    random_state=100)"
      ],
      "metadata": {
        "id": "QkxUmgURlNT3"
      },
      "execution_count": 90,
      "outputs": []
    },
    {
      "cell_type": "code",
      "source": [
        "from sklearn.preprocessing import StandardScaler\n",
        "\n",
        "sc = StandardScaler()\n",
        "\n",
        "X_train = sc.fit_transform(X_train)\n",
        "X_test = sc.transform(X_test)"
      ],
      "metadata": {
        "id": "8TWxYlWblQqn"
      },
      "execution_count": 91,
      "outputs": []
    },
    {
      "cell_type": "code",
      "source": [
        "from sklearn.neighbors import KNeighborsClassifier\n",
        "\n",
        "knn = KNeighborsClassifier(n_neighbors=3, algorithm='ball_tree').fit(X_train, y_train)"
      ],
      "metadata": {
        "id": "mdRxM0KLlTyi"
      },
      "execution_count": 92,
      "outputs": []
    },
    {
      "cell_type": "code",
      "source": [
        "knn_pred = knn.predict(X_test)"
      ],
      "metadata": {
        "id": "MBOP9HFylWLW"
      },
      "execution_count": 93,
      "outputs": []
    },
    {
      "cell_type": "code",
      "source": [
        "knn_acc = accuracy_score(y_test, knn_pred)\n",
        "print('accuracy score for knn: ', knn_acc)"
      ],
      "metadata": {
        "id": "NgSMZABVlZ_P",
        "colab": {
          "base_uri": "https://localhost:8080/"
        },
        "outputId": "2b686cf1-ec8e-4a2c-d821-f4975db4d6b8"
      },
      "execution_count": 94,
      "outputs": [
        {
          "output_type": "stream",
          "name": "stdout",
          "text": [
            "accuracy score for knn:  0.8401785714285714\n"
          ]
        }
      ]
    },
    {
      "cell_type": "code",
      "source": [
        "from sklearn.model_selection import cross_val_score\n",
        "\n",
        "scores = cross_val_score(knn, X=X_train, y=y_train, cv=10, n_jobs=1)\n",
        "print('cross validation accuracy score: ', scores)"
      ],
      "metadata": {
        "id": "n7Q4NDc3leFX",
        "colab": {
          "base_uri": "https://localhost:8080/"
        },
        "outputId": "b9d276a7-02de-48a6-b815-fdf1256afe39"
      },
      "execution_count": 95,
      "outputs": [
        {
          "output_type": "stream",
          "name": "stdout",
          "text": [
            "cross validation accuracy score:  [0.85714286 0.79464286 0.78571429 0.82142857 0.79464286 0.83928571\n",
            " 0.90178571 0.84821429 0.86607143 0.86607143]\n"
          ]
        }
      ]
    },
    {
      "cell_type": "code",
      "source": [
        "print(knn.predict(sc.transform([[2, 2500, 1, 5]])) > 0.5)"
      ],
      "metadata": {
        "id": "WotnncbclhJ2",
        "colab": {
          "base_uri": "https://localhost:8080/"
        },
        "outputId": "b8fd3529-0251-418c-b07c-c01b989cfcac"
      },
      "execution_count": 96,
      "outputs": [
        {
          "output_type": "stream",
          "name": "stdout",
          "text": [
            "[False]\n"
          ]
        }
      ]
    },
    {
      "cell_type": "code",
      "source": [
        "from sklearn import svm\n",
        "\n",
        "svm = svm.SVC().fit(X_train, y_train)"
      ],
      "metadata": {
        "id": "sfDdqBbTlkQG"
      },
      "execution_count": 97,
      "outputs": []
    },
    {
      "cell_type": "code",
      "source": [
        "svm_pred = svm.predict(X_test)"
      ],
      "metadata": {
        "id": "aJGvrP9Slq_9"
      },
      "execution_count": 98,
      "outputs": []
    },
    {
      "cell_type": "code",
      "source": [
        "svm_acc = accuracy_score(y_test, svm_pred)\n",
        "print('accuracy score for svm: ', svm_acc)"
      ],
      "metadata": {
        "id": "3Z5EK-DaluPe",
        "colab": {
          "base_uri": "https://localhost:8080/"
        },
        "outputId": "c54bbeba-ae5f-45d7-b195-c77eb4346695"
      },
      "execution_count": 99,
      "outputs": [
        {
          "output_type": "stream",
          "name": "stdout",
          "text": [
            "accuracy score for svm:  0.8660714285714286\n"
          ]
        }
      ]
    },
    {
      "cell_type": "code",
      "source": [
        "from sklearn.model_selection import cross_val_score\n",
        "\n",
        "scores = cross_val_score(svm, X=X_train, y=y_train, cv=10, n_jobs=1)\n",
        "print('cross validation accuracy score: ', scores)"
      ],
      "metadata": {
        "id": "5lIB9OwcmF-L",
        "colab": {
          "base_uri": "https://localhost:8080/"
        },
        "outputId": "835bf14c-5b17-4dc1-c7c4-c1aef630d96d"
      },
      "execution_count": 100,
      "outputs": [
        {
          "output_type": "stream",
          "name": "stdout",
          "text": [
            "cross validation accuracy score:  [0.88392857 0.875      0.82142857 0.89285714 0.83928571 0.83928571\n",
            " 0.89285714 0.85714286 0.875      0.875     ]\n"
          ]
        }
      ]
    },
    {
      "cell_type": "code",
      "source": [
        "print(svm.predict(sc.transform([[2, 2500, 1, 5]])) > 0.5)"
      ],
      "metadata": {
        "id": "UQcRBb6wmKGN",
        "colab": {
          "base_uri": "https://localhost:8080/"
        },
        "outputId": "d0dca920-a9ea-4555-e997-05058ea13c8d"
      },
      "execution_count": 101,
      "outputs": [
        {
          "output_type": "stream",
          "name": "stdout",
          "text": [
            "[False]\n"
          ]
        }
      ]
    },
    {
      "cell_type": "code",
      "source": [
        "import xgboost as xgb\n",
        "\n",
        "xgb_model = xgb.XGBClassifier(n_estimators=10, learning_rate=0.1).fit(X_train, y_train)"
      ],
      "metadata": {
        "id": "zBN_RNIkmNU7"
      },
      "execution_count": 102,
      "outputs": []
    },
    {
      "cell_type": "code",
      "source": [
        "xgb_pred = xgb_model.predict(X_test)"
      ],
      "metadata": {
        "id": "_XXtnkT7mQbq"
      },
      "execution_count": 103,
      "outputs": []
    },
    {
      "cell_type": "code",
      "source": [
        "xgb_acc = accuracy_score(y_test, xgb_pred)\n",
        "print('accuracy score for xgb: ', xgb_acc)"
      ],
      "metadata": {
        "id": "tNvJDXQXmTcq",
        "colab": {
          "base_uri": "https://localhost:8080/"
        },
        "outputId": "d5018b82-700f-4ee7-b550-4f060178303d"
      },
      "execution_count": 104,
      "outputs": [
        {
          "output_type": "stream",
          "name": "stdout",
          "text": [
            "accuracy score for xgb:  0.8669642857142857\n"
          ]
        }
      ]
    },
    {
      "cell_type": "code",
      "source": [
        "from sklearn.model_selection import cross_val_score\n",
        "\n",
        "scores = cross_val_score(xgb_model, X=X_train, y=y_train, cv=10, n_jobs=1)\n",
        "print('cross validation accuracy score: ', scores)"
      ],
      "metadata": {
        "id": "MxbXG2ZqmW3S",
        "colab": {
          "base_uri": "https://localhost:8080/"
        },
        "outputId": "1a4dda4f-e0bf-48d1-c9f7-cad0103134d1"
      },
      "execution_count": 105,
      "outputs": [
        {
          "output_type": "stream",
          "name": "stdout",
          "text": [
            "cross validation accuracy score:  [0.88392857 0.83928571 0.82142857 0.91071429 0.80357143 0.83928571\n",
            " 0.89285714 0.85714286 0.875      0.875     ]\n"
          ]
        }
      ]
    },
    {
      "cell_type": "code",
      "source": [
        "print(xgb_model.predict(sc.transform([[2, 2500, 1, 5]])) > 0.5)"
      ],
      "metadata": {
        "id": "y2B1R68emc8R",
        "colab": {
          "base_uri": "https://localhost:8080/"
        },
        "outputId": "a4442934-fd79-479a-fadb-34f3fe82facb"
      },
      "execution_count": 106,
      "outputs": [
        {
          "output_type": "stream",
          "name": "stdout",
          "text": [
            "[False]\n"
          ]
        }
      ]
    }
  ]
}