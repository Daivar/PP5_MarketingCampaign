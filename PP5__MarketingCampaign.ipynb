{
  "nbformat": 4,
  "nbformat_minor": 0,
  "metadata": {
    "colab": {
      "name": "PP%_MarketingCampaign.ipynb",
      "private_outputs": true,
      "provenance": [],
      "authorship_tag": "ABX9TyN+NfYmk6KY0/BiAzUStBOQ",
      "include_colab_link": true
    },
    "kernelspec": {
      "name": "python3",
      "display_name": "Python 3"
    },
    "language_info": {
      "name": "python"
    }
  },
  "cells": [
    {
      "cell_type": "markdown",
      "metadata": {
        "id": "view-in-github",
        "colab_type": "text"
      },
      "source": [
        "<a href=\"https://colab.research.google.com/github/Daivar/PP5_MarketingCampaign/blob/main/PP5__MarketingCampaign.ipynb\" target=\"_parent\"><img src=\"https://colab.research.google.com/assets/colab-badge.svg\" alt=\"Open In Colab\"/></a>"
      ]
    },
    {
      "cell_type": "code",
      "execution_count": null,
      "metadata": {
        "id": "5ZZA_iTxJABA"
      },
      "outputs": [],
      "source": [
        "import pandas as pd\n",
        "\n",
        "import os\n",
        "for dirname, _, filenames in os.walk('marketing_campaign.csv'):\n",
        "    for filename in filenames:\n",
        "        print(os.path.join(dirname, filename))"
      ]
    },
    {
      "cell_type": "code",
      "source": [
        "marketing_campaign_data = 'marketing_campaign.csv'\n",
        "\n",
        "marketing_campaign_dataframe = pd.read_csv(marketing_campaign_data,\n",
        "                                           sep='\\t',\n",
        "                                           low_memory=False)"
      ],
      "metadata": {
        "id": "S5RIWQ5uMcyC"
      },
      "execution_count": null,
      "outputs": []
    },
    {
      "cell_type": "code",
      "source": [
        "import warnings\n",
        "\n",
        "warnings.filterwarnings('ignore')"
      ],
      "metadata": {
        "id": "U19gSMWVO_dL"
      },
      "execution_count": null,
      "outputs": []
    },
    {
      "cell_type": "code",
      "source": [
        "marketing_campaign_dataframe = marketing_campaign_dataframe.reset_index()"
      ],
      "metadata": {
        "id": "yd2TaOt5PEPR"
      },
      "execution_count": null,
      "outputs": []
    },
    {
      "cell_type": "code",
      "source": [
        "marketing_campaign_dataframe.head()"
      ],
      "metadata": {
        "id": "N6qGPq9CPNZK"
      },
      "execution_count": null,
      "outputs": []
    },
    {
      "cell_type": "code",
      "source": [
        "len(marketing_campaign_dataframe.columns)"
      ],
      "metadata": {
        "id": "kR5u0AjTRCxC"
      },
      "execution_count": null,
      "outputs": []
    },
    {
      "cell_type": "code",
      "source": [
        "marketing_campaign_dataframe = marketing_campaign_dataframe.drop(labels=2234, axis=0)"
      ],
      "metadata": {
        "id": "EKJRwqXYPT1J"
      },
      "execution_count": null,
      "outputs": []
    },
    {
      "cell_type": "code",
      "source": [
        "marketing_campaign_dataframe['Total spent'] = marketing_campaign_dataframe.apply(lambda marketing_campaign_dataframe: \n",
        "                           marketing_campaign_dataframe['MntWines'] + marketing_campaign_dataframe['MntFruits'] +\n",
        "                           marketing_campaign_dataframe['MntMeatProducts'] + marketing_campaign_dataframe['MntFishProducts'] + \n",
        "                           marketing_campaign_dataframe['MntSweetProducts'] + marketing_campaign_dataframe['MntGoldProds'], axis=1)\n",
        "\n",
        "marketing_campaign_dataframe['Total accept cmp'] = marketing_campaign_dataframe.apply(lambda marketing_campaign_dataframe: \n",
        "                           marketing_campaign_dataframe['AcceptedCmp1'] + marketing_campaign_dataframe['AcceptedCmp2'] +\n",
        "                           marketing_campaign_dataframe['AcceptedCmp3'] + marketing_campaign_dataframe['AcceptedCmp4'] + \n",
        "                           marketing_campaign_dataframe['AcceptedCmp5'], axis=1)\n",
        "\n",
        "marketing_campaign_dataframe['Total purchases'] = marketing_campaign_dataframe.apply(lambda marketing_campaign_dataframe: \n",
        "                           marketing_campaign_dataframe['NumDealsPurchases'] + marketing_campaign_dataframe['NumWebPurchases'] +\n",
        "                           marketing_campaign_dataframe['NumCatalogPurchases'] + marketing_campaign_dataframe['NumStorePurchases'], axis=1)"
      ],
      "metadata": {
        "id": "UV-r5Z1oPbj5"
      },
      "execution_count": null,
      "outputs": []
    },
    {
      "cell_type": "code",
      "source": [
        "marketing_campaign_dataframe.head()"
      ],
      "metadata": {
        "id": "ymNM7ZqPPdGr"
      },
      "execution_count": null,
      "outputs": []
    },
    {
      "cell_type": "code",
      "source": [
        "len(marketing_campaign_dataframe.columns)"
      ],
      "metadata": {
        "id": "jqZvgthRRR67"
      },
      "execution_count": null,
      "outputs": []
    },
    {
      "cell_type": "code",
      "source": [
        "import matplotlib.pyplot as plt\n",
        "import seaborn as sns\n",
        "\n",
        "sns.set()\n",
        "plt.figure(figsize=(30, 15))\n",
        "sns.heatmap(marketing_campaign_dataframe.corr(), annot=True)\n",
        "\n",
        "plt.show()"
      ],
      "metadata": {
        "id": "BIy5I-Q6QKNz"
      },
      "execution_count": null,
      "outputs": []
    },
    {
      "cell_type": "code",
      "source": [
        "from sklearn.cluster import KMeans\n",
        "\n",
        "X = marketing_campaign_dataframe[['ID', 'Education', 'Marital_Status', 'Income',\n",
        "                                  'Kidhome', 'Teenhome', 'Recency', 'Complain', \n",
        "                                  'MntWines', 'MntFruits', 'MntMeatProducts',\n",
        "                                  'MntFishProducts', 'MntSweetProducts', 'MntGoldProds', \n",
        "                                  'NumDealsPurchases', 'NumWebPurchases', 'NumCatalogPurchases', \n",
        "                                  'NumStorePurchases', 'NumWebVisitsMonth', 'AcceptedCmp3',\n",
        "                                  'AcceptedCmp4', 'AcceptedCmp5', 'AcceptedCmp1', 'AcceptedCmp2',\n",
        "                                  'Complain', 'Response', 'Total spent', 'Total accept cmp',\n",
        "                                  'Total purchases']].copy()\n",
        "\n",
        "X.columns = ['ID', 'Education', 'Marital_Status', 'Income',\n",
        "                                  'Kidhome', 'Teenhome', 'Recency', 'Complain', \n",
        "                                  'MntWines', 'MntFruits', 'MntMeatProducts',\n",
        "                                  'MntFishProducts', 'MntSweetProducts', 'MntGoldProds', \n",
        "                                  'NumDealsPurchases', 'NumWebPurchases', 'NumCatalogPurchases', \n",
        "                                  'NumStorePurchases', 'NumWebVisitsMonth', 'AcceptedCmp3',\n",
        "                                  'AcceptedCmp4', 'AcceptedCmp5', 'AcceptedCmp1', 'AcceptedCmp2',\n",
        "                                  'Complain', 'Response', 'Total spent', 'Total accept cmp',\n",
        "                                  'Total purchases']"
      ],
      "metadata": {
        "id": "QVjPZLNpQeR6"
      },
      "execution_count": null,
      "outputs": []
    },
    {
      "cell_type": "code",
      "source": [
        "X.head()"
      ],
      "metadata": {
        "id": "RXMavKUpQmX7"
      },
      "execution_count": null,
      "outputs": []
    },
    {
      "cell_type": "code",
      "source": [
        "len(X.columns)"
      ],
      "metadata": {
        "id": "LeHfi8fuQ-_K"
      },
      "execution_count": null,
      "outputs": []
    },
    {
      "cell_type": "code",
      "source": [
        "from sklearn.preprocessing import OneHotEncoder\n",
        "\n",
        "X = pd.get_dummies(X, columns=['Education', 'Marital_Status'])\n",
        "X.columns = ['ID', 'Income',\n",
        "                                  'Kidhome', 'Teenhome', 'Recency', 'Complain', \n",
        "                                  'MntWines', 'MntFruits', 'MntMeatProducts',\n",
        "                                  'MntFishProducts', 'MntSweetProducts', 'MntGoldProds', \n",
        "                                  'NumDealsPurchases', 'NumWebPurchases', 'NumCatalogPurchases', \n",
        "                                  'NumStorePurchases', 'NumWebVisitsMonth', 'AcceptedCmp3',\n",
        "                                  'AcceptedCmp4', 'AcceptedCmp5', 'AcceptedCmp1', 'AcceptedCmp2',\n",
        "                                  'Complain', 'Response', 'Total spent', 'Total accept cmp',\n",
        "                                  'Total purchases', 'Doctor', 'High School', 'Higher Education', 'Master', 'PhD',\n",
        "             'Absurd Marital Status', 'Alone Marital Status', 'Divorced Marital Status',\n",
        "             'Married Marital Status', 'Single Marital Status', 'Married Marital Status',\n",
        "             'Widowed Civil Status', 'Detached Civil Status']"
      ],
      "metadata": {
        "id": "eIw2C3zyRl_8"
      },
      "execution_count": null,
      "outputs": []
    },
    {
      "cell_type": "code",
      "source": [
        "X.head()"
      ],
      "metadata": {
        "id": "fTEnh4uDdNkQ"
      },
      "execution_count": null,
      "outputs": []
    },
    {
      "cell_type": "code",
      "source": [
        "len(X.columns)"
      ],
      "metadata": {
        "id": "Gdyyan_7flOS"
      },
      "execution_count": null,
      "outputs": []
    },
    {
      "cell_type": "code",
      "source": [
        "for content in X:\n",
        "    X.dropna(subset=[content], inplace=True)"
      ],
      "metadata": {
        "id": "7MsPv48sfoS6"
      },
      "execution_count": null,
      "outputs": []
    },
    {
      "cell_type": "code",
      "source": [
        "import matplotlib.pyplot as plt\n",
        "\n",
        "plt.scatter(X['Total spent'], X['MntWines'], alpha=0.3, color='purple',\n",
        "            edgecolors='black')\n",
        "\n",
        "plt.title('Total spent x qnt. spends on wines', fontsize=15)\n",
        "plt.xlabel('Total spent', fontsize=12)\n",
        "plt.ylabel('MntWines', fontsize=12)\n"
      ],
      "metadata": {
        "id": "pwTD1x6tfubA"
      },
      "execution_count": null,
      "outputs": []
    },
    {
      "cell_type": "code",
      "source": [
        "from sklearn.neural_network import MLPRegressor\n",
        "from sklearn.datasets import make_regression\n",
        "from sklearn.model_selection import train_test_split\n",
        "\n",
        "linear_analysis_axisX = X[['MntWines', 'MntMeatProducts', 'MntSweetProducts', 'MntSweetProducts', 'MntFruits', 'MntGoldProds']]\n",
        "\n",
        "linear_analysis_axisY = X[['Income']]"
      ],
      "metadata": {
        "id": "1YkqjJrch_hY"
      },
      "execution_count": null,
      "outputs": []
    },
    {
      "cell_type": "code",
      "source": [
        "\n",
        "linear_Xtrain, linear_Xtest, linear_ytrain, linear_ytest = train_test_split(\n",
        "    linear_analysis_axisX, linear_analysis_axisY, test_size=0.25)"
      ],
      "metadata": {
        "id": "Hq_aTjUsLqeU"
      },
      "execution_count": null,
      "outputs": []
    },
    {
      "cell_type": "code",
      "source": [
        "from sklearn.linear_model import LinearRegression\n",
        "\n",
        "linear_model = LinearRegression().fit(linear_Xtrain, linear_ytrain)"
      ],
      "metadata": {
        "id": "H1lNBAodPK0i"
      },
      "execution_count": null,
      "outputs": []
    },
    {
      "cell_type": "code",
      "source": [
        "linear_pred = linear_model.predict(linear_Xtest)"
      ],
      "metadata": {
        "id": "12SDYkMJPPMQ"
      },
      "execution_count": null,
      "outputs": []
    },
    {
      "cell_type": "code",
      "source": [
        "from sklearn.metrics import r2_score\n",
        "\n",
        "print('coefficient of determination: ', r2_score(linear_ytest, linear_pred))"
      ],
      "metadata": {
        "id": "8dAnGZ3uPTLi"
      },
      "execution_count": null,
      "outputs": []
    },
    {
      "cell_type": "code",
      "source": [
        "plt.scatter(linear_analysis_axisY.iloc[0:554, :], linear_pred, alpha=0.3, color='blue',\n",
        "            edgecolors='black')\n",
        "\n",
        "plt.xlabel('Income', fontsize=12)\n",
        "plt.ylabel('Customers annual income result', fontsize=12)\n",
        "\n",
        "plt.show()"
      ],
      "metadata": {
        "id": "3TKOwn4dPrwD"
      },
      "execution_count": null,
      "outputs": []
    },
    {
      "cell_type": "code",
      "source": [
        "plt.scatter(linear_analysis_axisX.iloc[0:554, [0]], linear_pred, alpha=0.5,\n",
        "            color='red', edgecolors='black', label='pred')\n",
        "\n",
        "# plt.scatter(X['Total spent x qnt. spends on wines'], X['Income'], alpha=0.5, color='blue', edgecolors='black', label='actual values')\n",
        "\n",
        "plt.title('Analyzing the model using wine', fontsize=15)\n",
        "plt.xlabel('Total spent x qnt. spends on wines', fontsize=12)\n",
        "plt.ylabel('Income', fontsize=12)\n",
        "\n",
        "plt.legend()\n",
        "plt.show()"
      ],
      "metadata": {
        "id": "HLJVkjSvQiXo"
      },
      "execution_count": null,
      "outputs": []
    },
    {
      "cell_type": "code",
      "source": [
        "plt.figure(figsize=(12, 6))\n",
        "\n",
        "plt.scatter(X['MntMeatProducts'], X['NumCatalogPurchases'],\n",
        "            edgecolors='black', alpha=0.25, label='Meat products from catalog')\n",
        "\n",
        "plt.scatter(X['MntWines'], X['NumCatalogPurchases'],\n",
        "            color='purple', edgecolors='black', alpha=0.25, label='Wines from catalog')\n",
        "\n",
        "plt.scatter(X['MntSweetProducts'], X['NumCatalogPurchases'],\n",
        "            color='yellow', edgecolors='black', alpha=0.25, label='doce x catálogo')\n",
        "\n",
        "plt.scatter(X['MntFishProducts'], X['NumCatalogPurchases'],\n",
        "            color='orange', edgecolors='black', alpha=0.25, label='Fish products from catalog')\n",
        "\n",
        "plt.scatter(X['MntGoldProds'], X['NumCatalogPurchases'],\n",
        "            color='red', edgecolors='black', alpha=0.25, label='NumCatalogPurchases')\n",
        "\n",
        "plt.xlabel('MntGoldProds', fontsize=12)\n",
        "plt.ylabel('NumCatalogPurchases', fontsize=12)\n",
        "\n",
        "plt.legend()\n",
        "plt.show()"
      ],
      "metadata": {
        "id": "o9ewbYtbS9Cx"
      },
      "execution_count": null,
      "outputs": []
    },
    {
      "cell_type": "code",
      "source": [
        "plt.figure(figsize=(12, 6))\n",
        "plt.scatter(X['Total spent'], X['NumCatalogPurchases'],\n",
        "            color='black', edgecolors='black', alpha=0.5)\n",
        "\n",
        "plt.xlabel('Total spent', fontsize=12)\n",
        "plt.ylabel('NumCatalogPurchases', fontsize=12)\n",
        "\n",
        "plt.show()"
      ],
      "metadata": {
        "id": "gbCBRtGuSo3x"
      },
      "execution_count": null,
      "outputs": []
    },
    {
      "cell_type": "code",
      "source": [
        "plt.figure(figsize=(12, 6))\n",
        "\n",
        "plt.scatter(X['MntMeatProducts'], X['NumWebPurchases'],\n",
        "            edgecolors='black', alpha=0.25, label='carne x site')\n",
        "\n",
        "plt.scatter(X['MntWines'], X['NumWebPurchases'],\n",
        "            color='purple', edgecolors='black', alpha=0.25, label='vinho x site')\n",
        "\n",
        "plt.scatter(X['MntSweetProducts'], X['NumWebPurchases'],\n",
        "            color='yellow', edgecolors='black', alpha=0.25, label='doce x site')\n",
        "\n",
        "plt.scatter(X['MntFishProducts'], X['NumWebPurchases'],\n",
        "            color='orange', edgecolors='black', alpha=0.25, label='peixe x site')\n",
        "\n",
        "plt.scatter(X['MntGoldProds'], X['NumWebPurchases'],\n",
        "            color='red', edgecolors='black', alpha=0.25, label='ouro x site')\n",
        "\n",
        "plt.xlabel('MntGoldProds', fontsize=12)\n",
        "plt.ylabel('NumWebPurchases', fontsize=12)\n",
        "\n",
        "plt.legend()\n",
        "plt.show()"
      ],
      "metadata": {
        "id": "R9dagaNgXUin"
      },
      "execution_count": null,
      "outputs": []
    },
    {
      "cell_type": "code",
      "source": [
        "plt.figure(figsize=(12, 6))\n",
        "plt.scatter(X['Total spent'], X['NumWebPurchases'],\n",
        "            color='black', edgecolors='black', alpha=0.5)\n",
        "\n",
        "plt.xlabel('Total spent', fontsize=12)\n",
        "plt.ylabel('NumWebPurchases', fontsize=12)\n",
        "\n",
        "plt.show()"
      ],
      "metadata": {
        "id": "UMygCLKxY_pP"
      },
      "execution_count": null,
      "outputs": []
    },
    {
      "cell_type": "code",
      "source": [
        "plt.figure(figsize=(12, 6))\n",
        "\n",
        "plt.scatter(X['Total spent'], X['Total accept cmp'], alpha=0.5,\n",
        "            edgecolors='black',  label='Total spent x Total accept cmp')\n",
        "\n",
        "plt.scatter(X['Total spent'], X['Total purchases'], alpha=0.5, color='green',\n",
        "            edgecolors='black',  label='Total spent x Total purchases')\n",
        "\n",
        "plt.legend()\n",
        "plt.show()"
      ],
      "metadata": {
        "id": "MfAVYjHbZUJo"
      },
      "execution_count": null,
      "outputs": []
    },
    {
      "cell_type": "code",
      "source": [
        "deep_learning_X = X[['Complain', 'Total spent', 'Total accept cmp',\n",
        "                     'Total purchases']]\n",
        "\n",
        "deep_learning_y = X[['Response']]"
      ],
      "metadata": {
        "id": "g1SDff2BhVYI"
      },
      "execution_count": null,
      "outputs": []
    },
    {
      "cell_type": "code",
      "source": [
        "from sklearn.model_selection import train_test_split\n",
        "\n",
        "deep_learning_Xtrain, deep_learning_Xtest, deep_learning_ytrain, deep_learning_ytest = train_test_split(\n",
        "    deep_learning_X, deep_learning_y, test_size=0.25, shuffle=True\n",
        ")"
      ],
      "metadata": {
        "id": "TibdBSd1h-gw"
      },
      "execution_count": null,
      "outputs": []
    },
    {
      "cell_type": "code",
      "source": [
        "import tensorflow as tf\n",
        "\n",
        "ann = tf.keras.models.Sequential()"
      ],
      "metadata": {
        "id": "uLZE6s-3aM7K"
      },
      "execution_count": null,
      "outputs": []
    },
    {
      "cell_type": "code",
      "source": [
        "ann.add(tf.keras.layers.Dense(units=6, activation='relu'))"
      ],
      "metadata": {
        "id": "Dxjjg2dPaVMt"
      },
      "execution_count": null,
      "outputs": []
    },
    {
      "cell_type": "code",
      "source": [
        "ann.add(tf.keras.layers.Dense(units=6, activation='relu'))"
      ],
      "metadata": {
        "id": "xbdiuOBPaYkc"
      },
      "execution_count": null,
      "outputs": []
    },
    {
      "cell_type": "code",
      "source": [
        "ann.add(tf.keras.layers.Dense(units=1, activation='sigmoid'))"
      ],
      "metadata": {
        "id": "8rnrpjO8acgr"
      },
      "execution_count": null,
      "outputs": []
    },
    {
      "cell_type": "code",
      "source": [
        "ann.compile(optimizer='adam', loss='binary_crossentropy', metrics=['accuracy'])"
      ],
      "metadata": {
        "id": "uRO-68Xuafx7"
      },
      "execution_count": null,
      "outputs": []
    },
    {
      "cell_type": "code",
      "source": [
        "ann.fit(deep_learning_Xtrain, deep_learning_ytrain, batch_size=12, epochs=100)"
      ],
      "metadata": {
        "id": "U11QnONZajFj"
      },
      "execution_count": null,
      "outputs": []
    },
    {
      "cell_type": "code",
      "source": [
        "import numpy as np\n",
        "\n",
        "pred = ann.predict(deep_learning_Xtest)\n",
        "pred = (pred > 0.5)"
      ],
      "metadata": {
        "id": "R812GK3watuA"
      },
      "execution_count": null,
      "outputs": []
    },
    {
      "cell_type": "code",
      "source": [
        "y_test = deep_learning_ytest.iloc[:, :].values\n",
        "\n",
        "print(np.concatenate((pred.reshape(len(pred), 1), \n",
        "                      y_test.reshape(len(y_test), 1)), 1))"
      ],
      "metadata": {
        "id": "gnl-Id51esDD"
      },
      "execution_count": null,
      "outputs": []
    },
    {
      "cell_type": "code",
      "source": [
        "from sklearn.metrics import confusion_matrix, accuracy_score\n",
        "\n",
        "cm = confusion_matrix(y_test, pred)\n",
        "\n",
        "print(cm)\n",
        "print('accuracy score for confusion matrix: ', accuracy_score(y_test, pred))"
      ],
      "metadata": {
        "id": "fKtOQO4BewKj"
      },
      "execution_count": null,
      "outputs": []
    },
    {
      "cell_type": "code",
      "source": [
        "display_elements = marketing_campaign_dataframe[['Income', 'Education']]\n",
        "display_elements.columns = ['Income', 'Education']\n",
        "\n",
        "import seaborn as sns\n",
        "\n",
        "plt.figure(figsize=(12, 6))\n",
        "\n",
        "sns.set()\n",
        "sns.barplot(x=display_elements['Income'],\n",
        "            y=display_elements['Education'],\n",
        "            palette='pastel', order=['Basic', '2n Cycle', 'Graduation', 'Master',\n",
        "                                     'PhD'])\n",
        "\n",
        "plt.show()"
      ],
      "metadata": {
        "id": "efZ7RgOne2l8"
      },
      "execution_count": null,
      "outputs": []
    },
    {
      "cell_type": "code",
      "source": [
        "deep_learning_X_wDegree = X[['Complain', 'Total spent', 'Total accept cmp',\n",
        "                     'Total purchases', 'Doctor', 'High School', 'Higher Education', \n",
        "                     'Master', 'PhD']]\n",
        "\n",
        "deep_learning_y_wDegree = X[['Response']]"
      ],
      "metadata": {
        "id": "lfruqYFEfqix"
      },
      "execution_count": null,
      "outputs": []
    },
    {
      "cell_type": "code",
      "source": [
        "from sklearn.model_selection import train_test_split\n",
        "\n",
        "deep_learning_Xtrain, deep_learning_Xtest, deep_learning_ytrain, deep_learning_ytest = train_test_split(\n",
        "    deep_learning_X_wDegree, deep_learning_y_wDegree, test_size=0.25, shuffle=True\n",
        ")"
      ],
      "metadata": {
        "id": "sFsXja4niIV-"
      },
      "execution_count": null,
      "outputs": []
    },
    {
      "cell_type": "code",
      "source": [
        "from sklearn.preprocessing import StandardScaler\n",
        "\n",
        "sc = StandardScaler()\n",
        "\n",
        "deep_learning_Xtrain = sc.fit_transform(deep_learning_Xtrain)\n",
        "deep_learning_Xtest = sc.transform(deep_learning_Xtest)"
      ],
      "metadata": {
        "id": "ou4sM-M9iJEF"
      },
      "execution_count": null,
      "outputs": []
    },
    {
      "cell_type": "code",
      "source": [
        "import tensorflow as tf\n",
        "\n",
        "ann = tf.keras.models.Sequential()"
      ],
      "metadata": {
        "id": "blAKZzNdiPEW"
      },
      "execution_count": null,
      "outputs": []
    },
    {
      "cell_type": "code",
      "source": [
        "ann.add(tf.keras.layers.Dense(units=6, activation='relu'))"
      ],
      "metadata": {
        "id": "zrN13Q6tiS0F"
      },
      "execution_count": null,
      "outputs": []
    },
    {
      "cell_type": "code",
      "source": [
        "ann.add(tf.keras.layers.Dense(units=6, activation='relu'))"
      ],
      "metadata": {
        "id": "FvvJjm4OiVmG"
      },
      "execution_count": null,
      "outputs": []
    },
    {
      "cell_type": "code",
      "source": [
        "ann.add(tf.keras.layers.Dense(units=1, activation='sigmoid'))"
      ],
      "metadata": {
        "id": "Uk02JmzeiWV0"
      },
      "execution_count": null,
      "outputs": []
    },
    {
      "cell_type": "code",
      "source": [
        "ann.compile(optimizer='adam', loss='binary_crossentropy', metrics=['accuracy'])"
      ],
      "metadata": {
        "id": "C5Lk-toEiY1k"
      },
      "execution_count": null,
      "outputs": []
    },
    {
      "cell_type": "code",
      "source": [
        "ann.fit(deep_learning_Xtrain, deep_learning_ytrain, batch_size=12, epochs=100)"
      ],
      "metadata": {
        "id": "RrTGnk55ieR0"
      },
      "execution_count": null,
      "outputs": []
    },
    {
      "cell_type": "code",
      "source": [
        "y_test = deep_learning_ytest.iloc[:, :].values\n",
        "\n",
        "print(np.concatenate((pred.reshape(len(pred), 1), \n",
        "                      y_test.reshape(len(y_test), 1)), 1))"
      ],
      "metadata": {
        "id": "yLtbn1DcjOA4"
      },
      "execution_count": null,
      "outputs": []
    },
    {
      "cell_type": "code",
      "source": [
        "import numpy as np\n",
        "\n",
        "pred = ann.predict(deep_learning_Xtest)\n",
        "pred = (pred > 0.5)"
      ],
      "metadata": {
        "id": "J8aGr88BjXz2"
      },
      "execution_count": null,
      "outputs": []
    },
    {
      "cell_type": "code",
      "source": [
        "from sklearn.metrics import confusion_matrix, accuracy_score\n",
        "\n",
        "cm = confusion_matrix(y_test, pred)\n",
        "\n",
        "print(cm)\n",
        "print('accuracy score for confusion matrix: ', accuracy_score(y_test, pred))"
      ],
      "metadata": {
        "id": "VHRFK2UjjbR-"
      },
      "execution_count": null,
      "outputs": []
    },
    {
      "cell_type": "code",
      "source": [
        "import matplotlib.cm as cm\n",
        "from sklearn.metrics import silhouette_score\n",
        "\n",
        "wcss = []\n",
        "\n",
        "for number_of_clusters in range(2, 12):\n",
        "    kmeans = KMeans(n_clusters=number_of_clusters, random_state=0)\n",
        "    kmeans.fit(X)\n",
        "    kmeans_labels = kmeans.fit_predict(X)\n",
        "    wcss.append(kmeans.inertia_)\n",
        "    silhouette = silhouette_score(X, kmeans_labels)\n",
        "    print('For numer_of_clusters = ', number_of_clusters,\n",
        "          'Silhouette score is = ', silhouette)\n",
        "    \n",
        "    colors = cm.nipy_spectral(kmeans_labels / number_of_clusters)"
      ],
      "metadata": {
        "id": "y7NCAccPjgSm"
      },
      "execution_count": null,
      "outputs": []
    },
    {
      "cell_type": "code",
      "source": [
        "plt.plot(range(2, 12), wcss[0:12], alpha=0.5, color='black')\n",
        "plt.scatter(range(2, 12), wcss[0:12], alpha=0.8, color='black', edgecolors='blue')\n",
        "plt.axvline(silhouette, color='black', linestyle='--')\n",
        "plt.title('cluster number', fontsize=15)\n",
        "plt.xlabel('clusters', fontsize=12)\n",
        "plt.ylabel('wcss', fontsize=12)\n",
        "plt.show()"
      ],
      "metadata": {
        "id": "CgdOD4RojorV"
      },
      "execution_count": null,
      "outputs": []
    },
    {
      "cell_type": "code",
      "source": [
        "plt.scatter(X['Total spent'], X['Income'], \n",
        "            c=colors, alpha=0.5, edgecolors='black')\n",
        "\n",
        "plt.title('Analysis by clustering - T.Expenditure x Annual Income', fontsize=15)\n",
        "plt.xlabel('Total spent', fontsize=12)\n",
        "plt.ylabel('Income', fontsize=12)\n",
        "\n",
        "plt.show()"
      ],
      "metadata": {
        "id": "3AS4VcktkxUy"
      },
      "execution_count": null,
      "outputs": []
    },
    {
      "cell_type": "code",
      "source": [
        "\"\"\"Using marketing_campaign_dataframe for X and y because I'm getting a weird error with X in this cell\"\"\"\n",
        "\n",
        "X = marketing_campaign_dataframe[['Complain', 'Total spent', 'Total accept cmp',\n",
        "                                  'Total purchases']]\n",
        "\n",
        "y = marketing_campaign_dataframe[['Response']]"
      ],
      "metadata": {
        "id": "f21YxhWMlBSd"
      },
      "execution_count": null,
      "outputs": []
    },
    {
      "cell_type": "code",
      "source": [
        "for content in X:\n",
        "    X.dropna(subset=[content], inplace=True)"
      ],
      "metadata": {
        "id": "QI6IR9QIlHpf"
      },
      "execution_count": null,
      "outputs": []
    },
    {
      "cell_type": "code",
      "source": [
        "for content in y:\n",
        "    y.dropna(subset=[content], inplace=True)"
      ],
      "metadata": {
        "id": "0nDrUlOxlKOe"
      },
      "execution_count": null,
      "outputs": []
    },
    {
      "cell_type": "code",
      "source": [
        "from sklearn.model_selection import train_test_split\n",
        "from sklearn.metrics import accuracy_score\n",
        "\n",
        "X_train, X_test, y_train, y_test = train_test_split(X, y, test_size=0.5, shuffle=True,\n",
        "                                                    random_state=100)"
      ],
      "metadata": {
        "id": "QkxUmgURlNT3"
      },
      "execution_count": null,
      "outputs": []
    },
    {
      "cell_type": "code",
      "source": [
        "from sklearn.preprocessing import StandardScaler\n",
        "\n",
        "sc = StandardScaler()\n",
        "\n",
        "X_train = sc.fit_transform(X_train)\n",
        "X_test = sc.transform(X_test)"
      ],
      "metadata": {
        "id": "8TWxYlWblQqn"
      },
      "execution_count": null,
      "outputs": []
    },
    {
      "cell_type": "code",
      "source": [
        "from sklearn.neighbors import KNeighborsClassifier\n",
        "\n",
        "knn = KNeighborsClassifier(n_neighbors=3, algorithm='ball_tree').fit(X_train, y_train)"
      ],
      "metadata": {
        "id": "mdRxM0KLlTyi"
      },
      "execution_count": null,
      "outputs": []
    },
    {
      "cell_type": "code",
      "source": [
        "knn_pred = knn.predict(X_test)"
      ],
      "metadata": {
        "id": "MBOP9HFylWLW"
      },
      "execution_count": null,
      "outputs": []
    },
    {
      "cell_type": "code",
      "source": [
        "knn_acc = accuracy_score(y_test, knn_pred)\n",
        "print('accuracy score for knn: ', knn_acc)"
      ],
      "metadata": {
        "id": "NgSMZABVlZ_P"
      },
      "execution_count": null,
      "outputs": []
    },
    {
      "cell_type": "code",
      "source": [
        "from sklearn.model_selection import cross_val_score\n",
        "\n",
        "scores = cross_val_score(knn, X=X_train, y=y_train, cv=10, n_jobs=1)\n",
        "print('cross validation accuracy score: ', scores)"
      ],
      "metadata": {
        "id": "n7Q4NDc3leFX"
      },
      "execution_count": null,
      "outputs": []
    },
    {
      "cell_type": "code",
      "source": [
        "print(knn.predict(sc.transform([[2, 2500, 1, 5]])) > 0.5)"
      ],
      "metadata": {
        "id": "WotnncbclhJ2"
      },
      "execution_count": null,
      "outputs": []
    },
    {
      "cell_type": "code",
      "source": [
        "from sklearn import svm\n",
        "\n",
        "svm = svm.SVC().fit(X_train, y_train)"
      ],
      "metadata": {
        "id": "sfDdqBbTlkQG"
      },
      "execution_count": null,
      "outputs": []
    },
    {
      "cell_type": "code",
      "source": [
        "svm_pred = svm.predict(X_test)"
      ],
      "metadata": {
        "id": "aJGvrP9Slq_9"
      },
      "execution_count": null,
      "outputs": []
    },
    {
      "cell_type": "code",
      "source": [
        "svm_acc = accuracy_score(y_test, svm_pred)\n",
        "print('accuracy score for svm: ', svm_acc)"
      ],
      "metadata": {
        "id": "3Z5EK-DaluPe"
      },
      "execution_count": null,
      "outputs": []
    },
    {
      "cell_type": "code",
      "source": [
        "from sklearn.model_selection import cross_val_score\n",
        "\n",
        "scores = cross_val_score(svm, X=X_train, y=y_train, cv=10, n_jobs=1)\n",
        "print('cross validation accuracy score: ', scores)"
      ],
      "metadata": {
        "id": "5lIB9OwcmF-L"
      },
      "execution_count": null,
      "outputs": []
    },
    {
      "cell_type": "code",
      "source": [
        "print(svm.predict(sc.transform([[2, 2500, 1, 5]])) > 0.5)"
      ],
      "metadata": {
        "id": "UQcRBb6wmKGN"
      },
      "execution_count": null,
      "outputs": []
    },
    {
      "cell_type": "code",
      "source": [
        "import xgboost as xgb\n",
        "\n",
        "xgb_model = xgb.XGBClassifier(n_estimators=10, learning_rate=0.1).fit(X_train, y_train)"
      ],
      "metadata": {
        "id": "zBN_RNIkmNU7"
      },
      "execution_count": null,
      "outputs": []
    },
    {
      "cell_type": "code",
      "source": [
        "xgb_pred = xgb_model.predict(X_test)"
      ],
      "metadata": {
        "id": "_XXtnkT7mQbq"
      },
      "execution_count": null,
      "outputs": []
    },
    {
      "cell_type": "code",
      "source": [
        "xgb_acc = accuracy_score(y_test, xgb_pred)\n",
        "print('accuracy score for xgb: ', xgb_acc)"
      ],
      "metadata": {
        "id": "tNvJDXQXmTcq"
      },
      "execution_count": null,
      "outputs": []
    },
    {
      "cell_type": "code",
      "source": [
        "from sklearn.model_selection import cross_val_score\n",
        "\n",
        "scores = cross_val_score(xgb_model, X=X_train, y=y_train, cv=10, n_jobs=1)\n",
        "print('cross validation accuracy score: ', scores)"
      ],
      "metadata": {
        "id": "MxbXG2ZqmW3S"
      },
      "execution_count": null,
      "outputs": []
    },
    {
      "cell_type": "code",
      "source": [
        "print(xgb_model.predict(sc.transform([[2, 2500, 1, 5]])) > 0.5)"
      ],
      "metadata": {
        "id": "y2B1R68emc8R"
      },
      "execution_count": null,
      "outputs": []
    }
  ]
}