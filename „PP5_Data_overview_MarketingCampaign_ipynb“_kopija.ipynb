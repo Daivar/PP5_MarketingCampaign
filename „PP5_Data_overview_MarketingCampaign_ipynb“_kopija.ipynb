{
  "nbformat": 4,
  "nbformat_minor": 0,
  "metadata": {
    "colab": {
      "name": "„PP5_Data_overview_MarketingCampaign.ipynb“ kopija",
      "private_outputs": true,
      "provenance": [],
      "authorship_tag": "ABX9TyMBALSUfhJ0/19GEmg72OwQ",
      "include_colab_link": true
    },
    "kernelspec": {
      "name": "python3",
      "display_name": "Python 3"
    },
    "language_info": {
      "name": "python"
    }
  },
  "cells": [
    {
      "cell_type": "markdown",
      "metadata": {
        "id": "view-in-github",
        "colab_type": "text"
      },
      "source": [
        "<a href=\"https://colab.research.google.com/github/Daivar/PP5_MarketingCampaign/blob/main/%E2%80%9EPP5_Data_overview_MarketingCampaign_ipynb%E2%80%9C_kopija.ipynb\" target=\"_parent\"><img src=\"https://colab.research.google.com/assets/colab-badge.svg\" alt=\"Open In Colab\"/></a>"
      ]
    },
    {
      "cell_type": "code",
      "execution_count": null,
      "metadata": {
        "id": "5ZZA_iTxJABA"
      },
      "outputs": [],
      "source": [
        "import pandas as pd\n",
        "\n",
        "import os\n",
        "for dirname, _, filenames in os.walk('marketing_campaign.csv'):\n",
        "    for filename in filenames:\n",
        "        print(os.path.join(dirname, filename))"
      ]
    },
    {
      "cell_type": "code",
      "source": [
        "marketing_campaign_data = 'marketing_campaign.csv'\n",
        "\n",
        "marketing_campaign_dataframe = pd.read_csv(marketing_campaign_data,\n",
        "                                           sep='\\t',\n",
        "                                           low_memory=False)"
      ],
      "metadata": {
        "id": "S5RIWQ5uMcyC"
      },
      "execution_count": null,
      "outputs": []
    },
    {
      "cell_type": "code",
      "source": [
        "import warnings\n",
        "\n",
        "warnings.filterwarnings('ignore')"
      ],
      "metadata": {
        "id": "U19gSMWVO_dL"
      },
      "execution_count": null,
      "outputs": []
    },
    {
      "cell_type": "code",
      "source": [
        "marketing_campaign_dataframe = marketing_campaign_dataframe.reset_index()"
      ],
      "metadata": {
        "id": "yd2TaOt5PEPR"
      },
      "execution_count": null,
      "outputs": []
    },
    {
      "cell_type": "code",
      "source": [
        "marketing_campaign_dataframe.head()"
      ],
      "metadata": {
        "id": "N6qGPq9CPNZK"
      },
      "execution_count": null,
      "outputs": []
    },
    {
      "cell_type": "code",
      "source": [
        "len(marketing_campaign_dataframe.columns)"
      ],
      "metadata": {
        "id": "kR5u0AjTRCxC"
      },
      "execution_count": null,
      "outputs": []
    },
    {
      "cell_type": "code",
      "source": [
        "marketing_campaign_dataframe = marketing_campaign_dataframe.drop(labels=2234, axis=0)"
      ],
      "metadata": {
        "id": "EKJRwqXYPT1J"
      },
      "execution_count": null,
      "outputs": []
    },
    {
      "cell_type": "code",
      "source": [
        "marketing_campaign_dataframe['Total spent'] = marketing_campaign_dataframe.apply(lambda marketing_campaign_dataframe: \n",
        "                           marketing_campaign_dataframe['MntWines'] + marketing_campaign_dataframe['MntFruits'] +\n",
        "                           marketing_campaign_dataframe['MntMeatProducts'] + marketing_campaign_dataframe['MntFishProducts'] + \n",
        "                           marketing_campaign_dataframe['MntSweetProducts'] + marketing_campaign_dataframe['MntGoldProds'], axis=1)\n",
        "\n",
        "marketing_campaign_dataframe['Total accept cmp'] = marketing_campaign_dataframe.apply(lambda marketing_campaign_dataframe: \n",
        "                           marketing_campaign_dataframe['AcceptedCmp1'] + marketing_campaign_dataframe['AcceptedCmp2'] +\n",
        "                           marketing_campaign_dataframe['AcceptedCmp3'] + marketing_campaign_dataframe['AcceptedCmp4'] + \n",
        "                           marketing_campaign_dataframe['AcceptedCmp5'], axis=1)\n",
        "\n",
        "marketing_campaign_dataframe['Total purchases'] = marketing_campaign_dataframe.apply(lambda marketing_campaign_dataframe: \n",
        "                           marketing_campaign_dataframe['NumDealsPurchases'] + marketing_campaign_dataframe['NumWebPurchases'] +\n",
        "                           marketing_campaign_dataframe['NumCatalogPurchases'] + marketing_campaign_dataframe['NumStorePurchases'], axis=1)"
      ],
      "metadata": {
        "id": "UV-r5Z1oPbj5"
      },
      "execution_count": null,
      "outputs": []
    },
    {
      "cell_type": "code",
      "source": [
        "marketing_campaign_dataframe.head()"
      ],
      "metadata": {
        "id": "ymNM7ZqPPdGr"
      },
      "execution_count": null,
      "outputs": []
    },
    {
      "cell_type": "code",
      "source": [
        "len(marketing_campaign_dataframe.columns)"
      ],
      "metadata": {
        "id": "jqZvgthRRR67"
      },
      "execution_count": null,
      "outputs": []
    },
    {
      "cell_type": "code",
      "source": [
        "import matplotlib.pyplot as plt\n",
        "import seaborn as sns\n",
        "\n",
        "sns.set()\n",
        "plt.figure(figsize=(30, 15))\n",
        "sns.heatmap(marketing_campaign_dataframe.corr(), annot=True)\n",
        "\n",
        "plt.show()"
      ],
      "metadata": {
        "id": "BIy5I-Q6QKNz"
      },
      "execution_count": null,
      "outputs": []
    }
  ]
}